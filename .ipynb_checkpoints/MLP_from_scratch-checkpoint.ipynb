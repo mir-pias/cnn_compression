{
 "cells": [
  {
   "cell_type": "code",
   "execution_count": 29,
   "id": "8f9faba5",
   "metadata": {},
   "outputs": [],
   "source": [
    "import numpy as np\n",
    "import torch\n",
    "from torch import nn"
   ]
  },
  {
   "cell_type": "code",
   "execution_count": 30,
   "id": "7937d82d",
   "metadata": {},
   "outputs": [],
   "source": [
    "torch.manual_seed(0)\n",
    "\n",
    "train_X = torch.rand(10000,4) ## some random data\n",
    " \n",
    "train_y = torch.randint(0, 2, (10000,1)) ## state of some random machine [0,1]\n"
   ]
  },
  {
   "cell_type": "code",
   "execution_count": 31,
   "id": "2f77d55f",
   "metadata": {},
   "outputs": [],
   "source": [
    "## generator for mini batch\n",
    "## https://www.pyimagesearch.com/2016/10/17/stochastic-gradient-descent-sgd-with-python/\n",
    "\n",
    "def mini_batch(X,y,batchSize):\n",
    "    for i in np.arange(0, X.shape[0], batchSize):\n",
    "        yield(X[i:i + batchSize], y[i:i + batchSize])"
   ]
  },
  {
   "cell_type": "code",
   "execution_count": 32,
   "id": "925ecab7",
   "metadata": {},
   "outputs": [],
   "source": [
    "def mse(y,y_pred):\n",
    "    return torch.mean((y - y_pred)**2)"
   ]
  },
  {
   "cell_type": "code",
   "execution_count": 33,
   "id": "63082de9",
   "metadata": {},
   "outputs": [],
   "source": [
    "class NeuralNetwork(nn.Module):\n",
    "    def __init__(self, input_size, hidden_size, output_size):\n",
    "        super(NeuralNetwork, self).__init__()\n",
    "        \n",
    "        # weights\n",
    "        self.w1 = torch.randn(input_size, hidden_size)\n",
    "        self.w2 = torch.randn(hidden_size, hidden_size) \n",
    "        self.w3 = torch.randn(hidden_size, output_size)\n",
    "        \n",
    "    def sigmoid(self, x):\n",
    "        return 1 / (1 + torch.exp(-x))\n",
    "    \n",
    "    def sigmoidPrime(self, x):\n",
    "        return x * (1 - x)\n",
    "    \n",
    "    def relu(self,x):\n",
    "        return torch.maximum(torch.zeros(x.shape), x)\n",
    "        \n",
    "    def reluPrime(self,x):\n",
    "        x[x<=0] = 0\n",
    "        x[x>0] = 1\n",
    "        return x\n",
    "        \n",
    "        \n",
    "    def forward(self, X):\n",
    "        \n",
    "        self.layer1 = torch.matmul(X, self.w1) \n",
    "        self.layer1_act = self.sigmoid(self.layer1) \n",
    "        \n",
    "        self.layer2 = torch.matmul(self.layer1_act, self.w2)\n",
    "        self.layer2_act = self.sigmoid(self.layer2) \n",
    "        \n",
    "        self.output = torch.matmul(self.layer2_act, self.w3)\n",
    "#         self.output_act = self.sigmoid(self.output)\n",
    "        \n",
    "        return self.output\n",
    "        \n",
    "    \n",
    "    def backward(self, X, y, o, alpha):\n",
    "        self.output_error = (2/y.size(0))*(y-o)  ## mse derivative\n",
    "        self.output_delta = self.output_error #* self.sigmoidPrime(o) \n",
    "\n",
    "        self.l2_error = torch.matmul(self.output_delta, torch.t(self.w3))\n",
    "        self.l2_delta = self.l2_error * self.sigmoidPrime(self.layer2_act)\n",
    "        \n",
    "        self.l1_error = torch.matmul(self.l2_delta, torch.t(self.w2))\n",
    "        self.l1_delta = self.l1_error * self.sigmoidPrime(self.layer1_act)\n",
    "        \n",
    "        self.w1 += alpha * torch.matmul(torch.t(X), self.l1_delta)\n",
    "        self.w2 += alpha * torch.matmul(torch.t(self.layer1_act), self.l2_delta)\n",
    "        self.w3 += alpha * torch.matmul(torch.t(self.layer2_act), self.output_delta)\n"
   ]
  },
  {
   "cell_type": "code",
   "execution_count": 34,
   "id": "17adc9b2",
   "metadata": {},
   "outputs": [
    {
     "name": "stdout",
     "output_type": "stream",
     "text": [
      "epoch: 0 Loss: 3.489431e-01\n",
      "epoch: 10 Loss: 2.553166e-01\n",
      "epoch: 20 Loss: 2.543784e-01\n",
      "epoch: 30 Loss: 2.536654e-01\n",
      "epoch: 40 Loss: 2.531160e-01\n",
      "epoch: 50 Loss: 2.526868e-01\n",
      "epoch: 60 Loss: 2.523470e-01\n",
      "epoch: 70 Loss: 2.520739e-01\n",
      "epoch: 80 Loss: 2.518515e-01\n",
      "epoch: 90 Loss: 2.516678e-01\n",
      "epoch: 100 Loss: 2.515140e-01\n"
     ]
    }
   ],
   "source": [
    "hidden_size = 8\n",
    "\n",
    "model = NeuralNetwork(train_X.shape[1], hidden_size, train_y.shape[1])\n",
    "\n",
    "train_loss_list = []\n",
    "batch_size = 32\n",
    "\n",
    "alpha = 0.001 # learning_rate\n",
    "\n",
    "for i in range(0,101):\n",
    "    \n",
    "    train_loss = 0\n",
    "    for (X, y) in mini_batch(train_X, train_y, batch_size):\n",
    "        \n",
    "        output = model.forward(X)\n",
    "        \n",
    "        loss = mse(y,output)\n",
    "        \n",
    "        model.backward(X,y,output,alpha)\n",
    "        \n",
    "        train_loss += loss*X.size(0)\n",
    "        \n",
    "    train_loss = train_loss/len(train_X)\n",
    "    \n",
    "    train_loss_list.append(train_loss)\n",
    "    \n",
    "    if i % 10 == 0:\n",
    "        print (\"epoch: \" + str(i) + \" Loss: {:e}\".format(train_loss))  \n"
   ]
  },
  {
   "cell_type": "code",
   "execution_count": 36,
   "id": "2e43ddc8",
   "metadata": {},
   "outputs": [
    {
     "data": {
      "text/plain": [
       "[<matplotlib.lines.Line2D at 0x2db1e11d9c8>]"
      ]
     },
     "execution_count": 36,
     "metadata": {},
     "output_type": "execute_result"
    },
    {
     "data": {
      "image/png": "[encoded data removed]",
      "text/plain": [
       "<Figure size 432x288 with 1 Axes>"
      ]
     },
     "metadata": {
      "needs_background": "light"
     },
     "output_type": "display_data"
    }
   ],
   "source": [
    "import matplotlib.pyplot as plt\n",
    "\n",
    "plt.plot(train_loss_list)"
   ]
  },
  {
   "cell_type": "code",
   "execution_count": null,
   "id": "69dbd1c6",
   "metadata": {},
   "outputs": [],
   "source": []
  }
 ],
 "metadata": {
  "kernelspec": {
   "display_name": "Python 3 (ipykernel)",
   "language": "python",
   "name": "python3"
  },
  "language_info": {
   "codemirror_mode": {
    "name": "ipython",
    "version": 3
   },
   "file_extension": ".py",
   "mimetype": "text/x-python",
   "name": "python",
   "nbconvert_exporter": "python",
   "pygments_lexer": "ipython3",
   "version": "3.9.7"
  }
 },
 "nbformat": 4,
 "nbformat_minor": 5
}
