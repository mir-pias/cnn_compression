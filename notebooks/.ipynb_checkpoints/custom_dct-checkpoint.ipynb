{
 "cells": [
  {
   "cell_type": "code",
   "execution_count": 1,
   "id": "422c37f8",
   "metadata": {},
   "outputs": [],
   "source": [
    "import numpy as np\n",
    "import scipy\n",
    "import matplotlib.pyplot as plt"
   ]
  },
  {
   "cell_type": "code",
   "execution_count": 12,
   "id": "45054d3b",
   "metadata": {},
   "outputs": [
    {
     "data": {
      "text/plain": [
       "array([[-2.25870524,  2.70855876,  1.47592767, ..., -2.18970618,\n",
       "         1.70877115,  0.39429188],\n",
       "       [-0.16299394,  0.14751589,  1.88828525, ..., -0.22687042,\n",
       "         0.07199372,  1.35958948],\n",
       "       [ 0.6184045 ,  0.02927805,  1.49791336, ...,  0.19945361,\n",
       "        -0.88328721, -1.03306424],\n",
       "       ...,\n",
       "       [-0.2627385 ,  1.07883847, -0.07873572, ...,  1.08149383,\n",
       "         1.01515201, -0.93185348],\n",
       "       [ 0.28550006, -1.82795139, -0.17971873, ...,  1.11138941,\n",
       "         0.37553147, -0.49542311],\n",
       "       [-0.64608508, -0.54289464,  0.43711782, ...,  0.81638196,\n",
       "        -1.00343938, -0.38017968]])"
      ]
     },
     "execution_count": 12,
     "metadata": {},
     "output_type": "execute_result"
    }
   ],
   "source": [
    "x = np.random.randn(256,256)\n",
    "x"
   ]
  },
  {
   "cell_type": "code",
   "execution_count": 13,
   "id": "4fac70b6",
   "metadata": {},
   "outputs": [
    {
     "data": {
      "text/plain": [
       "array([[ 1.06237895, -1.10841309, -0.56200178, ...,  0.03800244,\n",
       "         0.08124687,  0.32662916],\n",
       "       [ 0.05618898, -0.17942646, -0.80625175, ..., -1.01356272,\n",
       "         2.71038678, -1.19746309],\n",
       "       [-0.32533212, -0.91218361,  2.93656415, ..., -0.33800928,\n",
       "        -0.52107397, -1.7607246 ],\n",
       "       ...,\n",
       "       [-0.51700734, -0.94472735,  1.21859529, ...,  0.40350898,\n",
       "         0.01957326,  0.14547053],\n",
       "       [ 0.4586154 , -1.68565872,  0.18816981, ..., -1.31422017,\n",
       "        -1.13665942, -2.00303354],\n",
       "       [-1.81262268,  0.90628142,  1.59974418, ...,  0.88054481,\n",
       "         0.33585103,  0.95514569]])"
      ]
     },
     "execution_count": 13,
     "metadata": {},
     "output_type": "execute_result"
    }
   ],
   "source": [
    "from scipy.fft import fft, dct, idct\n",
    "\n",
    "dct(x,2, axis=0, norm='ortho')"
   ]
  },
  {
   "cell_type": "code",
   "execution_count": 14,
   "id": "e6ab1abc",
   "metadata": {},
   "outputs": [],
   "source": [
    "def dct2(x, norm=None):\n",
    "    N = len(x)\n",
    "    n = np.arange(N)\n",
    "\n",
    "    coeff_vec = []\n",
    "    \n",
    "    for k in n:\n",
    "        yk = 0\n",
    "        for i in n:\n",
    "            yk += x[i] * np.cos(np.pi* k*(2*i + 1)/(2*N))\n",
    "        if norm=='ortho':\n",
    "            if k == 0:\n",
    "                yk = np.sqrt(1/(4*N)) * yk\n",
    "            else:\n",
    "                yk = np.sqrt(1/(2*N)) * yk\n",
    "        yk = yk*2\n",
    "        coeff_vec.append(yk)\n",
    "        \n",
    "    return np.array(coeff_vec)"
   ]
  },
  {
   "cell_type": "code",
   "execution_count": 15,
   "id": "f4279bd6",
   "metadata": {},
   "outputs": [
    {
     "data": {
      "text/plain": [
       "array([[ 1.06237895, -1.10841309, -0.56200178, ...,  0.03800244,\n",
       "         0.08124687,  0.32662916],\n",
       "       [ 0.05618898, -0.17942646, -0.80625175, ..., -1.01356272,\n",
       "         2.71038678, -1.19746309],\n",
       "       [-0.32533212, -0.91218361,  2.93656415, ..., -0.33800928,\n",
       "        -0.52107397, -1.7607246 ],\n",
       "       ...,\n",
       "       [-0.51700734, -0.94472735,  1.21859529, ...,  0.40350898,\n",
       "         0.01957326,  0.14547053],\n",
       "       [ 0.4586154 , -1.68565872,  0.18816981, ..., -1.31422017,\n",
       "        -1.13665942, -2.00303354],\n",
       "       [-1.81262268,  0.90628142,  1.59974418, ...,  0.88054481,\n",
       "         0.33585103,  0.95514569]])"
      ]
     },
     "execution_count": 15,
     "metadata": {},
     "output_type": "execute_result"
    }
   ],
   "source": [
    "dct2(x,norm='ortho')"
   ]
  },
  {
   "cell_type": "code",
   "execution_count": 17,
   "id": "cb466a9e",
   "metadata": {},
   "outputs": [
    {
     "data": {
      "text/plain": [
       "array([[ 2.        ,  2.        ,  2.        , ...,  2.        ,\n",
       "         2.        ,  2.        ],\n",
       "       [ 1.99996235,  1.99966116,  1.99905884, ..., -1.99905884,\n",
       "        -1.99966116, -1.99996235],\n",
       "       [ 1.9998494 ,  1.99864477,  1.99623623, ...,  1.99623623,\n",
       "         1.99864477,  1.9998494 ],\n",
       "       ...,\n",
       "       [ 0.03681346, -0.11039049,  0.18381791, ..., -0.18381791,\n",
       "         0.11039049, -0.03681346],\n",
       "       [ 0.02454308, -0.07361445,  0.12264147, ...,  0.12264147,\n",
       "        -0.07361445,  0.02454308],\n",
       "       [ 0.01227177, -0.03681346,  0.06134961, ..., -0.06134961,\n",
       "         0.03681346, -0.01227177]])"
      ]
     },
     "execution_count": 17,
     "metadata": {},
     "output_type": "execute_result"
    }
   ],
   "source": [
    "dct2(np.eye(256,256))"
   ]
  },
  {
   "cell_type": "code",
   "execution_count": 24,
   "id": "e193f756",
   "metadata": {},
   "outputs": [
    {
     "data": {
      "text/plain": [
       "[<matplotlib.lines.Line2D at 0x2200443b6d0>]"
      ]
     },
     "execution_count": 24,
     "metadata": {},
     "output_type": "execute_result"
    },
    {
     "data": {
      "image/png": "[encoded data removed]",
      "text/plain": [
       "<Figure size 432x288 with 1 Axes>"
      ]
     },
     "metadata": {
      "needs_background": "light"
     },
     "output_type": "display_data"
    }
   ],
   "source": [
    "# plt.figure()\n",
    "plt.plot(dct2(np.eye(256,256))[1])\n",
    "plt.plot(dct2(np.eye(256,256))[2])\n",
    "plt.plot(dct2(np.eye(256,256))[3])"
   ]
  },
  {
   "cell_type": "code",
   "execution_count": 6,
   "id": "6dbe099a",
   "metadata": {},
   "outputs": [
    {
     "data": {
      "text/plain": [
       "array([[-4.44089210e-16, -2.22044605e-16,  0.00000000e+00,\n",
       "         0.00000000e+00],\n",
       "       [ 4.44089210e-16,  0.00000000e+00,  2.77555756e-17,\n",
       "         0.00000000e+00],\n",
       "       [ 7.77156117e-16, -1.11022302e-16, -1.11022302e-16,\n",
       "         0.00000000e+00],\n",
       "       [ 4.99600361e-16,  1.66533454e-16,  0.00000000e+00,\n",
       "        -2.22044605e-16]])"
      ]
     },
     "execution_count": 6,
     "metadata": {},
     "output_type": "execute_result"
    }
   ],
   "source": [
    "dct2(x, norm='ortho') - dct(x,2, axis=0, norm='ortho')"
   ]
  },
  {
   "cell_type": "code",
   "execution_count": null,
   "id": "7e658cd5",
   "metadata": {},
   "outputs": [],
   "source": []
  }
 ],
 "metadata": {
  "kernelspec": {
   "display_name": "Python 3 (ipykernel)",
   "language": "python",
   "name": "python3"
  },
  "language_info": {
   "codemirror_mode": {
    "name": "ipython",
    "version": 3
   },
   "file_extension": ".py",
   "mimetype": "text/x-python",
   "name": "python",
   "nbconvert_exporter": "python",
   "pygments_lexer": "ipython3",
   "version": "3.9.7"
  }
 },
 "nbformat": 4,
 "nbformat_minor": 5
}
