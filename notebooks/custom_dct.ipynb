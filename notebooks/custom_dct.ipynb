{
 "cells": [
  {
   "cell_type": "code",
   "execution_count": 1,
   "id": "422c37f8",
   "metadata": {},
   "outputs": [],
   "source": [
    "import numpy as np\n",
    "from scipy.fft import fft, dct, idct\n",
    "import matplotlib.pyplot as plt\n",
    "import torch\n",
    "from torch import nn"
   ]
  },
  {
   "cell_type": "code",
   "execution_count": 2,
   "id": "45054d3b",
   "metadata": {},
   "outputs": [
    {
     "data": {
      "text/plain": [
       "array([[ 1.73215191,  0.54294611,  1.56590685, -0.91695743, -1.00120418,\n",
       "        -0.80280446, -0.97943249,  0.17296584],\n",
       "       [ 0.43183087,  1.48997897, -0.49781624,  1.34170328, -0.91755683,\n",
       "         0.05664579,  0.16711643,  0.71790835],\n",
       "       [-0.46605828, -0.84193941,  2.27934631,  2.14197876,  0.29502806,\n",
       "         0.62191721,  0.29632082, -0.85321215],\n",
       "       [-0.85501491,  0.72052904,  0.19869512,  0.31871158, -1.90068156,\n",
       "         0.7199079 ,  0.51315394, -1.54138014],\n",
       "       [ 0.53158408,  0.89551265,  0.42123485, -0.14232498, -0.34953415,\n",
       "         1.07922836,  0.61428987,  0.18008172],\n",
       "       [ 0.1202554 , -1.726     ,  1.84161538,  1.36929263,  1.10586899,\n",
       "         0.64084555, -0.59963633, -0.18126166],\n",
       "       [ 0.17428156,  1.46111922, -0.14085399, -0.18912921,  0.25636288,\n",
       "         2.2096622 , -0.75866467,  1.01377409],\n",
       "       [-0.78908171,  0.4447428 ,  0.07465252,  1.49430559, -0.27393362,\n",
       "        -0.71875   , -0.72012747,  2.24360725]])"
      ]
     },
     "execution_count": 2,
     "metadata": {},
     "output_type": "execute_result"
    }
   ],
   "source": [
    "x = np.random.randn(8,8)\n",
    "x"
   ]
  },
  {
   "cell_type": "code",
   "execution_count": 3,
   "id": "e6ab1abc",
   "metadata": {},
   "outputs": [],
   "source": [
    "def dct2(x, norm=None):\n",
    "    N = len(x)\n",
    "    n = np.arange(N)\n",
    "\n",
    "    coeff_vec = []\n",
    "    \n",
    "    for k in n:\n",
    "        yk = 0\n",
    "        for i in n:\n",
    "            yk += x[i] * np.cos(np.pi* k*(2*i + 1)/(2*N))\n",
    "        if norm=='ortho':\n",
    "            if k == 0:\n",
    "                yk = np.sqrt(1/(4*N)) * yk\n",
    "            else:\n",
    "                yk = np.sqrt(1/(2*N)) * yk\n",
    "        yk = yk*2\n",
    "#         print(yk)\n",
    "        coeff_vec.append(yk)\n",
    "        \n",
    "    return np.array(coeff_vec)"
   ]
  },
  {
   "cell_type": "code",
   "execution_count": 4,
   "id": "f8f10bf3",
   "metadata": {},
   "outputs": [
    {
     "data": {
      "text/plain": [
       "tensor([[ 1.7322,  0.5429,  1.5659, -0.9170, -1.0012, -0.8028, -0.9794,  0.1730],\n",
       "        [ 0.4318,  1.4900, -0.4978,  1.3417, -0.9176,  0.0566,  0.1671,  0.7179],\n",
       "        [-0.4661, -0.8419,  2.2793,  2.1420,  0.2950,  0.6219,  0.2963, -0.8532],\n",
       "        [-0.8550,  0.7205,  0.1987,  0.3187, -1.9007,  0.7199,  0.5132, -1.5414],\n",
       "        [ 0.5316,  0.8955,  0.4212, -0.1423, -0.3495,  1.0792,  0.6143,  0.1801],\n",
       "        [ 0.1203, -1.7260,  1.8416,  1.3693,  1.1059,  0.6408, -0.5996, -0.1813],\n",
       "        [ 0.1743,  1.4611, -0.1409, -0.1891,  0.2564,  2.2097, -0.7587,  1.0138],\n",
       "        [-0.7891,  0.4447,  0.0747,  1.4943, -0.2739, -0.7187, -0.7201,  2.2436]],\n",
       "       dtype=torch.float64)"
      ]
     },
     "execution_count": 4,
     "metadata": {},
     "output_type": "execute_result"
    }
   ],
   "source": [
    "x_t = torch.tensor(x)\n",
    "x_t"
   ]
  },
  {
   "cell_type": "code",
   "execution_count": 10,
   "id": "21a6a8fa",
   "metadata": {},
   "outputs": [
    {
     "data": {
      "text/plain": [
       "torch.Size([8, 8])"
      ]
     },
     "execution_count": 10,
     "metadata": {},
     "output_type": "execute_result"
    }
   ],
   "source": [
    "x_t.shape[0:2]"
   ]
  },
  {
   "cell_type": "code",
   "execution_count": 12,
   "id": "993e4bb5",
   "metadata": {},
   "outputs": [],
   "source": [
    "dct_mat = dct(np.eye(8,8))\n",
    "\n",
    "dct_mat_t = torch.from_numpy(dct_mat)"
   ]
  },
  {
   "cell_type": "code",
   "execution_count": 15,
   "id": "cb7cfbe4",
   "metadata": {},
   "outputs": [
    {
     "ename": "TypeError",
     "evalue": "__init__() missing 1 required positional argument: 'out_features'",
     "output_type": "error",
     "traceback": [
      "\u001b[1;31m---------------------------------------------------------------------------\u001b[0m",
      "\u001b[1;31mTypeError\u001b[0m                                 Traceback (most recent call last)",
      "\u001b[1;32mC:\\Users\\MIRPIA~1\\AppData\\Local\\Temp/ipykernel_14100/3676819551.py\u001b[0m in \u001b[0;36m<module>\u001b[1;34m\u001b[0m\n\u001b[1;32m----> 1\u001b[1;33m \u001b[0mw\u001b[0m \u001b[1;33m=\u001b[0m \u001b[0mnn\u001b[0m\u001b[1;33m.\u001b[0m\u001b[0mLinear\u001b[0m\u001b[1;33m(\u001b[0m\u001b[0mx\u001b[0m\u001b[1;33m.\u001b[0m\u001b[0mshape\u001b[0m\u001b[1;33m)\u001b[0m\u001b[1;33m\u001b[0m\u001b[1;33m\u001b[0m\u001b[0m\n\u001b[0m\u001b[0;32m      2\u001b[0m \u001b[0mw\u001b[0m\u001b[1;33m\u001b[0m\u001b[1;33m\u001b[0m\u001b[0m\n",
      "\u001b[1;31mTypeError\u001b[0m: __init__() missing 1 required positional argument: 'out_features'"
     ]
    }
   ],
   "source": [
    "w = nn.Linear(x.shape[-1],dct_mat.shape[-1])\n",
    "w"
   ]
  },
  {
   "cell_type": "code",
   "execution_count": 17,
   "id": "e25c03c6",
   "metadata": {},
   "outputs": [
    {
     "data": {
      "text/plain": [
       "tensor([[ 1.4712, -0.6680,  1.4762, -0.3055,  0.7022,  0.2845, -0.0600, -0.2740],\n",
       "        [ 1.7415, -0.2349, -1.3155, -0.9800, -1.4243,  0.0251,  0.8457,  0.0347],\n",
       "        [-0.8676,  0.3023,  1.4543,  0.0264, -0.8784, -1.2394, -0.1875, -0.0977],\n",
       "        [-1.8637,  0.6358,  1.3720,  0.8934, -0.8793,  0.4587,  2.0996, -0.5554],\n",
       "        [ 0.6220,  1.3647,  1.5779, -0.4486, -1.6523,  0.1901, -0.5762,  0.1141],\n",
       "        [ 0.1218,  0.8237,  0.5210,  1.1253, -0.6004,  0.1044,  0.4689, -0.5826],\n",
       "        [-1.2013,  0.0945, -1.3161,  1.0133, -0.1885,  0.0860, -0.3563, -0.8378],\n",
       "        [-0.2395,  0.6671,  0.3260,  0.5894,  0.8885,  0.7625, -0.0207,  1.5142]])"
      ]
     },
     "execution_count": 17,
     "metadata": {},
     "output_type": "execute_result"
    }
   ],
   "source": [
    "x_t.float()"
   ]
  },
  {
   "cell_type": "code",
   "execution_count": 16,
   "id": "f40218dd",
   "metadata": {},
   "outputs": [
    {
     "data": {
      "text/plain": [
       "tensor([[-0.9320,  0.8032,  0.0978, -1.0619,  0.5850,  0.0866, -0.5464,  0.8784],\n",
       "        [-0.2679, -0.3967,  0.1066, -1.9992, -0.0438, -0.0728, -0.3301, -0.2624],\n",
       "        [-0.0883,  0.4035, -0.1068,  0.1774, -0.1371,  0.5819, -0.0672,  0.3043],\n",
       "        [ 0.3696, -1.3498,  0.2293, -0.0891, -0.2107,  1.3288,  0.0360, -0.2566],\n",
       "        [-1.0969, -0.1031, -1.0905, -0.8541,  0.6813,  0.2211, -0.8763,  0.3768],\n",
       "        [-0.1404, -0.8817, -0.1616, -0.0644,  0.0186,  0.3967,  0.4071,  0.2387],\n",
       "        [ 0.7883, -0.9928,  0.5209,  0.5251, -0.6042,  0.1857,  1.1361, -0.6475],\n",
       "        [-0.2791, -0.1745, -0.2613,  0.0621, -0.2188, -0.7187,  0.0553, -0.0798]],\n",
       "       grad_fn=<AddmmBackward>)"
      ]
     },
     "execution_count": 16,
     "metadata": {},
     "output_type": "execute_result"
    }
   ],
   "source": [
    "w(x_t.float())"
   ]
  },
  {
   "cell_type": "code",
   "execution_count": 14,
   "id": "fc12204f",
   "metadata": {},
   "outputs": [
    {
     "data": {
      "text/plain": [
       "torch.Size([8, 8])"
      ]
     },
     "execution_count": 14,
     "metadata": {},
     "output_type": "execute_result"
    }
   ],
   "source": [
    "nn.Parameter(torch.matmul(x_t,dct_mat_t)).shape"
   ]
  },
  {
   "cell_type": "code",
   "execution_count": 12,
   "id": "a789beca",
   "metadata": {},
   "outputs": [
    {
     "data": {
      "text/plain": [
       "array([[ 5.25297253,  3.34320115, -0.42555331,  1.92134655,  0.79365402,\n",
       "         1.92096491,  5.2112503 ,  5.31501372],\n",
       "       [-2.61543931,  0.23481018,  9.17980728,  5.39598995,  0.07292985,\n",
       "         4.23160028, -0.3133831 , -1.23432864],\n",
       "       [-2.97499493,  2.65037318, -0.2858436 , -7.76052158, -3.03637589,\n",
       "         0.73940275,  0.09809528,  1.85990469],\n",
       "       [ 4.32203494, -3.29397679, -3.80359423, -5.36573971, -9.85867482,\n",
       "         4.72206198, -3.53415001, -0.84242621],\n",
       "       [ 2.38338335,  6.23563183,  4.49240541, -3.97266837, -5.54568973,\n",
       "        -0.69964077,  3.98124922, -2.01173588],\n",
       "       [ 3.96406831,  3.1078359 , -1.31069221, -1.70185721, -2.62177314,\n",
       "         3.11895831, -1.98704827, -2.81187932],\n",
       "       [-5.41240231, -1.05216257, -4.55057255,  0.63457023,  0.39265741,\n",
       "         0.16332852, -3.98109797, -5.33190049],\n",
       "       [ 8.97497683, -2.89809481, -0.71397381, -1.99627371,  1.43935471,\n",
       "        -3.96548557,  0.6615237 , -1.5876508 ]])"
      ]
     },
     "execution_count": 12,
     "metadata": {},
     "output_type": "execute_result"
    }
   ],
   "source": [
    "dct(x)"
   ]
  },
  {
   "cell_type": "code",
   "execution_count": null,
   "id": "cb466a9e",
   "metadata": {},
   "outputs": [],
   "source": [
    "dct2(np.eye(256,256))"
   ]
  },
  {
   "cell_type": "code",
   "execution_count": null,
   "id": "e193f756",
   "metadata": {},
   "outputs": [],
   "source": [
    "# plt.figure()\n",
    "plt.plot(dct2(np.eye(256,256))[1])\n",
    "plt.plot(dct2(np.eye(256,256))[2])\n",
    "plt.plot(dct2(np.eye(256,256))[3])"
   ]
  },
  {
   "cell_type": "code",
   "execution_count": null,
   "id": "6dbe099a",
   "metadata": {},
   "outputs": [],
   "source": [
    "dct2(x, norm='ortho') - dct(x,2, axis=0, norm='ortho')"
   ]
  },
  {
   "cell_type": "code",
   "execution_count": null,
   "id": "7e658cd5",
   "metadata": {},
   "outputs": [],
   "source": []
  }
 ],
 "metadata": {
  "kernelspec": {
   "display_name": "Python 3 (ipykernel)",
   "language": "python",
   "name": "python3"
  },
  "language_info": {
   "codemirror_mode": {
    "name": "ipython",
    "version": 3
   },
   "file_extension": ".py",
   "mimetype": "text/x-python",
   "name": "python",
   "nbconvert_exporter": "python",
   "pygments_lexer": "ipython3",
   "version": "3.9.7"
  }
 },
 "nbformat": 4,
 "nbformat_minor": 5
}
