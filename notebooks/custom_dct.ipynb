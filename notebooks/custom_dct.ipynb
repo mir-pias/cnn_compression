{
 "cells": [
  {
   "cell_type": "code",
   "execution_count": 2,
   "id": "422c37f8",
   "metadata": {},
   "outputs": [],
   "source": [
    "import numpy as np\n",
    "from scipy.fft import fft, dct, idct\n",
    "import matplotlib.pyplot as plt\n",
    "import torch\n",
    "from torch import nn\n",
    "import torch.nn.functional as F"
   ]
  },
  {
   "cell_type": "code",
   "execution_count": 3,
   "id": "45054d3b",
   "metadata": {},
   "outputs": [
    {
     "data": {
      "text/plain": [
       "(84, 120)"
      ]
     },
     "execution_count": 3,
     "metadata": {},
     "output_type": "execute_result"
    }
   ],
   "source": [
    "x = np.random.randn(84,120)\n",
    "x.shape"
   ]
  },
  {
   "cell_type": "code",
   "execution_count": 4,
   "id": "a25b8b7e",
   "metadata": {},
   "outputs": [
    {
     "data": {
      "text/plain": [
       "84"
      ]
     },
     "execution_count": 4,
     "metadata": {},
     "output_type": "execute_result"
    }
   ],
   "source": [
    "x.shape[0]"
   ]
  },
  {
   "cell_type": "code",
   "execution_count": 5,
   "id": "e6ab1abc",
   "metadata": {},
   "outputs": [],
   "source": [
    "def dct2(x, norm=None):\n",
    "    N = len(x)\n",
    "    n = np.arange(N)\n",
    "\n",
    "    coeff_vec = []\n",
    "    \n",
    "    for k in n:\n",
    "        yk = 0\n",
    "        for i in n:\n",
    "            yk += x[i] * np.cos(np.pi* k*(2*i + 1)/(2*N))\n",
    "        if norm=='ortho':\n",
    "            if k == 0:\n",
    "                yk = np.sqrt(1/(4*N)) * yk\n",
    "            else:\n",
    "                yk = np.sqrt(1/(2*N)) * yk\n",
    "        yk = yk*2\n",
    "#         print(yk)\n",
    "        coeff_vec.append(yk)\n",
    "        \n",
    "    return np.array(coeff_vec)"
   ]
  },
  {
   "cell_type": "code",
   "execution_count": 6,
   "id": "3aa1ca66",
   "metadata": {},
   "outputs": [],
   "source": [
    "def dct_mat(x):\n",
    "    L = x.shape[-1]\n",
    "    C = np.zeros((L,L))\n",
    "    n = k = np.arange(L)\n",
    "#     k = np.arange(1,L)\n",
    "#     print(C.shape)\n",
    "#     for k in range(L):\n",
    "#         for n in range(L):\n",
    "#             if k == 0:\n",
    "\n",
    "# #             else:\n",
    "    for _k in k[1:]:\n",
    "        C[_k,n] = np.sqrt(2/L)*np.cos((np.pi*_k*(1/2+n))/L)\n",
    "    \n",
    "    C[0,:] = np.sqrt(1/L)\n",
    "#     print(\"C=\")\n",
    "#     print(np.round(C,3))\n",
    "#     print(\"C^TC=\")\n",
    "#     print(np.round(np.transpose(C) @ C,3))\n",
    "\n",
    "    return C"
   ]
  },
  {
   "cell_type": "code",
   "execution_count": 7,
   "id": "31795224",
   "metadata": {},
   "outputs": [],
   "source": [
    "def dct_mat_torch(x): ## orthogonal dct matrix\n",
    "        N = x.shape[-1] \n",
    "        N = torch.tensor(N)\n",
    "        \n",
    "        default_dtype = torch.get_default_dtype()\n",
    "        \n",
    "        C = torch.zeros(N,N, dtype=default_dtype)\n",
    "        k = n = torch.arange(N)\n",
    "        \n",
    "        C[0,n] = torch.sqrt(1/N)           \n",
    "        for _k in k[1:]:\n",
    "            C[_k,n] = (torch.sqrt(2/N)*torch.cos((np.pi*_k*(1/2+n))/N)).float()\n",
    "        \n",
    "#         return torch.from_numpy(C).float().to(device)\n",
    "        return C"
   ]
  },
  {
   "cell_type": "code",
   "execution_count": 8,
   "id": "95c9368e",
   "metadata": {},
   "outputs": [
    {
     "data": {
      "text/plain": [
       "(120, 120)"
      ]
     },
     "execution_count": 8,
     "metadata": {},
     "output_type": "execute_result"
    }
   ],
   "source": [
    "(np.round(dct_mat(x),3)).shape"
   ]
  },
  {
   "cell_type": "code",
   "execution_count": 9,
   "id": "b8232e5e",
   "metadata": {},
   "outputs": [
    {
     "data": {
      "text/plain": [
       "(84, 120)"
      ]
     },
     "execution_count": 9,
     "metadata": {},
     "output_type": "execute_result"
    }
   ],
   "source": [
    "np.round(dct(np.eye(84,120),norm='ortho'),3).shape"
   ]
  },
  {
   "cell_type": "code",
   "execution_count": 10,
   "id": "9d676ab3",
   "metadata": {},
   "outputs": [
    {
     "data": {
      "text/plain": [
       "(4, 6)"
      ]
     },
     "execution_count": 10,
     "metadata": {},
     "output_type": "execute_result"
    }
   ],
   "source": [
    "(dct(np.eye(4,6),norm='ortho')).shape"
   ]
  },
  {
   "cell_type": "code",
   "execution_count": 11,
   "id": "807d843b",
   "metadata": {},
   "outputs": [
    {
     "data": {
      "text/plain": [
       "(3, 3)"
      ]
     },
     "execution_count": 11,
     "metadata": {},
     "output_type": "execute_result"
    }
   ],
   "source": [
    "in_features, out_features = 3, 64\n",
    "\n",
    "kernel_size = 3\n",
    "t = np.arange(kernel_size).reshape(1, -1)\n",
    "fc = np.arange(kernel_size ).reshape(-1, 1)\n",
    "(t * fc).shape\n",
    "\n",
    "tmp = t * fc\n",
    "dct_m = np.sqrt(2/(kernel_size)) * np.cos(0.5 * np.pi * fc * (2 * t + 1) / kernel_size)\n",
    "\n",
    "dct_m[0] = dct_m[0]/np.sqrt(2)\n",
    "dct_m.shape"
   ]
  },
  {
   "cell_type": "code",
   "execution_count": 12,
   "id": "821e949c",
   "metadata": {},
   "outputs": [
    {
     "data": {
      "text/plain": [
       "torch.Size([64, 3, 3])"
      ]
     },
     "execution_count": 12,
     "metadata": {},
     "output_type": "execute_result"
    }
   ],
   "source": [
    "dct_m_t = torch.tensor(dct_m)\n",
    "\n",
    "dct_list = []\n",
    "\n",
    "for i in range(64):\n",
    "    dct_list.append(dct_m_t)\n",
    "    \n",
    "\n",
    "a = torch.stack(dct_list,0)\n",
    "a.shape"
   ]
  },
  {
   "cell_type": "code",
   "execution_count": 13,
   "id": "d7b1a34d",
   "metadata": {},
   "outputs": [
    {
     "data": {
      "text/plain": [
       "torch.Size([64, 3, 3, 3])"
      ]
     },
     "execution_count": 13,
     "metadata": {},
     "output_type": "execute_result"
    }
   ],
   "source": [
    "dct_l2 = []\n",
    "for i in range(3):\n",
    "    dct_l2.append(a)\n",
    "    \n",
    "b = torch.stack(dct_l2,1)\n",
    "b.shape"
   ]
  },
  {
   "cell_type": "code",
   "execution_count": 17,
   "id": "ca9188bb",
   "metadata": {},
   "outputs": [
    {
     "data": {
      "text/plain": [
       "tensor([[[[ 0.3290,  1.2815, -0.8556],\n",
       "          [-1.3128, -0.7263,  0.7220],\n",
       "          [ 1.1980,  0.6512,  0.6691]],\n",
       "\n",
       "         [[-0.3811,  1.7738, -0.9407],\n",
       "          [-0.6500, -0.0783, -1.3990],\n",
       "          [ 0.9187, -0.1208,  0.8490]],\n",
       "\n",
       "         [[-1.0467, -2.4678, -0.6433],\n",
       "          [ 0.9392,  0.1014, -0.3938],\n",
       "          [-0.5597, -1.2613,  0.4055]]],\n",
       "\n",
       "\n",
       "        [[[ 0.6241,  0.0284, -2.4584],\n",
       "          [-0.2887,  0.8586,  1.2181],\n",
       "          [ 0.2907, -1.3665, -1.7315]],\n",
       "\n",
       "         [[-0.4013, -0.4969, -0.2949],\n",
       "          [ 0.4907,  0.4253, -0.3836],\n",
       "          [ 1.8487, -0.3967, -0.8415]],\n",
       "\n",
       "         [[-1.1733, -0.6521,  1.0104],\n",
       "          [ 0.2849,  0.4012, -0.9758],\n",
       "          [ 1.0302,  0.8659,  0.8601]]]], dtype=torch.float64)"
      ]
     },
     "execution_count": 17,
     "metadata": {},
     "output_type": "execute_result"
    }
   ],
   "source": [
    "w = torch.randn((2, 3, 3, 3),dtype=torch.float64)\n",
    "\n",
    "w @ dct_m_t"
   ]
  },
  {
   "cell_type": "code",
   "execution_count": 24,
   "id": "a6a52abc",
   "metadata": {},
   "outputs": [
    {
     "data": {
      "text/plain": [
       "tensor([[-1.1733, -0.6521,  1.0104],\n",
       "        [ 0.2849,  0.4012, -0.9758],\n",
       "        [ 1.0302,  0.8659,  0.8601]], dtype=torch.float64)"
      ]
     },
     "execution_count": 24,
     "metadata": {},
     "output_type": "execute_result"
    }
   ],
   "source": [
    "w[1][2] @ dct_m_t"
   ]
  },
  {
   "cell_type": "code",
   "execution_count": 39,
   "id": "a23cbed2",
   "metadata": {},
   "outputs": [
    {
     "ename": "RuntimeError",
     "evalue": "Input type (torch.FloatTensor) and weight type (torch.DoubleTensor) should be the same or input should be a MKLDNN tensor and weight is a dense tensor",
     "output_type": "error",
     "traceback": [
      "\u001b[1;31m---------------------------------------------------------------------------\u001b[0m",
      "\u001b[1;31mRuntimeError\u001b[0m                              Traceback (most recent call last)",
      "\u001b[1;32mC:\\Users\\MIRPIA~1\\AppData\\Local\\Temp/ipykernel_11936/3963947172.py\u001b[0m in \u001b[0;36m<module>\u001b[1;34m\u001b[0m\n\u001b[0;32m      1\u001b[0m \u001b[0mx\u001b[0m \u001b[1;33m=\u001b[0m \u001b[0mtorch\u001b[0m\u001b[1;33m.\u001b[0m\u001b[0mrandn\u001b[0m\u001b[1;33m(\u001b[0m\u001b[1;36m32\u001b[0m\u001b[1;33m,\u001b[0m\u001b[1;36m3\u001b[0m\u001b[1;33m,\u001b[0m\u001b[1;36m32\u001b[0m\u001b[1;33m,\u001b[0m\u001b[1;36m32\u001b[0m\u001b[1;33m)\u001b[0m\u001b[1;33m\u001b[0m\u001b[1;33m\u001b[0m\u001b[0m\n\u001b[0;32m      2\u001b[0m \u001b[1;33m\u001b[0m\u001b[0m\n\u001b[1;32m----> 3\u001b[1;33m \u001b[0mx2\u001b[0m \u001b[1;33m=\u001b[0m \u001b[0mF\u001b[0m\u001b[1;33m.\u001b[0m\u001b[0mconv2d\u001b[0m\u001b[1;33m(\u001b[0m\u001b[0mx\u001b[0m\u001b[1;33m,\u001b[0m\u001b[0mb\u001b[0m\u001b[1;33m,\u001b[0m \u001b[0mstride\u001b[0m\u001b[1;33m=\u001b[0m\u001b[1;36m2\u001b[0m\u001b[1;33m,\u001b[0m \u001b[0mpadding\u001b[0m\u001b[1;33m=\u001b[0m\u001b[1;36m1\u001b[0m\u001b[1;33m)\u001b[0m\u001b[1;33m\u001b[0m\u001b[1;33m\u001b[0m\u001b[0m\n\u001b[0m\u001b[0;32m      4\u001b[0m \u001b[1;33m\u001b[0m\u001b[0m\n\u001b[0;32m      5\u001b[0m \u001b[0mx2\u001b[0m\u001b[1;33m.\u001b[0m\u001b[0mshape\u001b[0m\u001b[1;33m\u001b[0m\u001b[1;33m\u001b[0m\u001b[0m\n",
      "\u001b[1;31mRuntimeError\u001b[0m: Input type (torch.FloatTensor) and weight type (torch.DoubleTensor) should be the same or input should be a MKLDNN tensor and weight is a dense tensor"
     ]
    }
   ],
   "source": [
    "x = torch.randn(32,3,32,32)\n",
    "\n",
    "x2 = F.conv2d(x,b, stride=2, padding=1)\n",
    "\n",
    "x2.shape"
   ]
  },
  {
   "cell_type": "code",
   "execution_count": 25,
   "id": "8aa06f82",
   "metadata": {},
   "outputs": [
    {
     "data": {
      "text/plain": [
       "torch.Size([32, 192, 16, 16])"
      ]
     },
     "execution_count": 25,
     "metadata": {},
     "output_type": "execute_result"
    }
   ],
   "source": [
    "w2 = torch.randn(192, 64, 3, 3)\n",
    "\n",
    "x3 = F.conv2d(x2,w2, padding=1)\n",
    "x3.shape"
   ]
  },
  {
   "cell_type": "code",
   "execution_count": 21,
   "id": "a1185a59",
   "metadata": {},
   "outputs": [
    {
     "data": {
      "text/plain": [
       "array([[ 1., -0.,  0.],\n",
       "       [-0.,  1., -0.],\n",
       "       [ 0., -0.,  1.]])"
      ]
     },
     "execution_count": 21,
     "metadata": {},
     "output_type": "execute_result"
    }
   ],
   "source": [
    "np.round(dct_m.T @ dct_m,1)"
   ]
  },
  {
   "cell_type": "code",
   "execution_count": 35,
   "id": "9d0cb550",
   "metadata": {},
   "outputs": [
    {
     "data": {
      "text/plain": [
       "array([[1., 0., 0., ..., 0., 0., 0.],\n",
       "       [0., 1., 0., ..., 0., 0., 0.],\n",
       "       [0., 0., 1., ..., 0., 0., 0.],\n",
       "       ...,\n",
       "       [0., 0., 0., ..., 1., 0., 0.],\n",
       "       [0., 0., 0., ..., 0., 1., 0.],\n",
       "       [0., 0., 0., ..., 0., 0., 1.]])"
      ]
     },
     "execution_count": 35,
     "metadata": {},
     "output_type": "execute_result"
    }
   ],
   "source": [
    "np.eye(84)"
   ]
  },
  {
   "cell_type": "code",
   "execution_count": 19,
   "id": "c4dcf086",
   "metadata": {},
   "outputs": [
    {
     "data": {
      "text/plain": [
       "[<matplotlib.lines.Line2D at 0x1ca946fbdf0>]"
      ]
     },
     "execution_count": 19,
     "metadata": {},
     "output_type": "execute_result"
    },
    {
     "data": {
      "image/png": "[encoded data removed]",
      "text/plain": [
       "<Figure size 432x288 with 1 Axes>"
      ]
     },
     "metadata": {
      "needs_background": "light"
     },
     "output_type": "display_data"
    }
   ],
   "source": [
    "plt.plot(dct_m[1])\n",
    "plt.plot(dct_m[2])\n",
    "plt.plot(dct_m[3])"
   ]
  },
  {
   "cell_type": "code",
   "execution_count": 25,
   "id": "2dcd947c",
   "metadata": {},
   "outputs": [
    {
     "data": {
      "text/plain": [
       "array([[ 36.74695221,   7.30487901,  -5.39774251, ...,  10.92113668,\n",
       "         20.13276311,  -6.86842019],\n",
       "       [ -5.57299668,  22.19710645,  11.38956915, ...,  24.60581128,\n",
       "        -20.42301093, -17.80969829],\n",
       "       [  2.14983464, -16.54939237, -14.60065517, ...,   5.12294529,\n",
       "         10.19979315,  -8.79323345],\n",
       "       ...,\n",
       "       [  6.88558823,  -5.92078276,   4.78758929, ...,  -2.87293326,\n",
       "         13.79791626,   5.45642293],\n",
       "       [  3.72466301,  25.66418702,   5.30181343, ...,  -1.79285434,\n",
       "         -2.24397163,  -0.71280847],\n",
       "       [  6.21353632,   4.17522933, -14.73434864, ...,   1.43051204,\n",
       "        -11.17132952,  24.98327079]])"
      ]
     },
     "execution_count": 25,
     "metadata": {},
     "output_type": "execute_result"
    }
   ],
   "source": [
    "dct2(x)"
   ]
  },
  {
   "cell_type": "code",
   "execution_count": 125,
   "id": "42782784",
   "metadata": {},
   "outputs": [
    {
     "data": {
      "text/plain": [
       "(4, 6)"
      ]
     },
     "execution_count": 125,
     "metadata": {},
     "output_type": "execute_result"
    }
   ],
   "source": [
    "(dct(x,norm='ortho')).shape"
   ]
  },
  {
   "cell_type": "code",
   "execution_count": 122,
   "id": "b83452f0",
   "metadata": {},
   "outputs": [
    {
     "data": {
      "text/plain": [
       "array([[-0.01187428,  0.49266205, -0.44239569,  0.41618809],\n",
       "       [ 1.3783358 , -0.45540198, -0.45719863, -0.3717228 ],\n",
       "       [-0.80666692, -0.84126643,  0.29137023, -1.27114   ],\n",
       "       [ 0.74931816,  0.44821495, -0.01123526, -0.57684716]])"
      ]
     },
     "execution_count": 122,
     "metadata": {},
     "output_type": "execute_result"
    }
   ],
   "source": [
    "(dct2(np.eye(4,6),norm='ortho') @ x.T) "
   ]
  },
  {
   "cell_type": "code",
   "execution_count": 109,
   "id": "4d5546bd",
   "metadata": {},
   "outputs": [
    {
     "data": {
      "text/plain": [
       "(6, 6)"
      ]
     },
     "execution_count": 109,
     "metadata": {},
     "output_type": "execute_result"
    }
   ],
   "source": [
    "np.round((dct_mat(x).T[:4,:].T @ x),3).shape"
   ]
  },
  {
   "cell_type": "code",
   "execution_count": 107,
   "id": "15a86c72",
   "metadata": {},
   "outputs": [
    {
     "name": "stderr",
     "output_type": "stream",
     "text": [
      "C:\\Users\\MIRPIA~1\\AppData\\Local\\Temp/ipykernel_12196/3591576736.py:1: DeprecationWarning: elementwise comparison failed; this will raise an error in the future.\n",
      "  np.round(dct(x,norm='ortho'),3) == np.round(dct(np.eye(4,6),norm='ortho').T @ x)\n"
     ]
    },
    {
     "data": {
      "text/plain": [
       "False"
      ]
     },
     "execution_count": 107,
     "metadata": {},
     "output_type": "execute_result"
    }
   ],
   "source": [
    "np.round(dct(x,norm='ortho'),3) == np.round(dct(np.eye(4,6),norm='ortho').T @ x)"
   ]
  },
  {
   "cell_type": "code",
   "execution_count": 100,
   "id": "acc66e47",
   "metadata": {},
   "outputs": [
    {
     "data": {
      "text/plain": [
       "array([[1., 0.],\n",
       "       [0., 1.]])"
      ]
     },
     "execution_count": 100,
     "metadata": {},
     "output_type": "execute_result"
    }
   ],
   "source": [
    "dct(np.eye(4,2),norm='ortho').T @ dct(np.eye(4,2),norm='ortho')"
   ]
  },
  {
   "cell_type": "code",
   "execution_count": 223,
   "id": "d4e6d887",
   "metadata": {},
   "outputs": [
    {
     "data": {
      "text/plain": [
       "(84, 10)"
      ]
     },
     "execution_count": 223,
     "metadata": {},
     "output_type": "execute_result"
    }
   ],
   "source": [
    "(np.random.rand(84,1) @ np.random.rand(1,10)).shape"
   ]
  },
  {
   "cell_type": "code",
   "execution_count": 20,
   "id": "42df5a55",
   "metadata": {},
   "outputs": [
    {
     "data": {
      "text/plain": [
       "array([[ 0.35355339,  0.35355339,  0.35355339,  0.35355339,  0.35355339,\n",
       "         0.35355339,  0.35355339,  0.35355339],\n",
       "       [ 0.49039264,  0.41573481,  0.27778512,  0.09754516, -0.09754516,\n",
       "        -0.27778512, -0.41573481, -0.49039264],\n",
       "       [ 0.46193977,  0.19134172, -0.19134172, -0.46193977, -0.46193977,\n",
       "        -0.19134172,  0.19134172,  0.46193977],\n",
       "       [ 0.41573481, -0.09754516, -0.49039264, -0.27778512,  0.27778512,\n",
       "         0.49039264,  0.09754516, -0.41573481],\n",
       "       [ 0.35355339, -0.35355339, -0.35355339,  0.35355339,  0.35355339,\n",
       "        -0.35355339, -0.35355339,  0.35355339],\n",
       "       [ 0.27778512, -0.49039264,  0.09754516,  0.41573481, -0.41573481,\n",
       "        -0.09754516,  0.49039264, -0.27778512],\n",
       "       [ 0.19134172, -0.46193977,  0.46193977, -0.19134172, -0.19134172,\n",
       "         0.46193977, -0.46193977,  0.19134172],\n",
       "       [ 0.09754516, -0.27778512,  0.41573481, -0.49039264,  0.49039264,\n",
       "        -0.41573481,  0.27778512, -0.09754516]])"
      ]
     },
     "execution_count": 20,
     "metadata": {},
     "output_type": "execute_result"
    }
   ],
   "source": [
    "dct2(np.eye(8,8),norm='ortho')"
   ]
  },
  {
   "cell_type": "code",
   "execution_count": 225,
   "id": "d1ee1fbb",
   "metadata": {},
   "outputs": [
    {
     "data": {
      "text/plain": [
       "(32, 40)"
      ]
     },
     "execution_count": 225,
     "metadata": {},
     "output_type": "execute_result"
    }
   ],
   "source": [
    "sig = dct_mat(x) @ x\n",
    "sig.shape"
   ]
  },
  {
   "cell_type": "code",
   "execution_count": 226,
   "id": "b1345837",
   "metadata": {},
   "outputs": [
    {
     "name": "stdout",
     "output_type": "stream",
     "text": [
      "[[ 1.  0.  0. ...  0.  0.  0.]\n",
      " [ 0.  1.  0. ... -0.  0.  0.]\n",
      " [ 0.  0.  1. ... -0. -0. -0.]\n",
      " ...\n",
      " [ 0. -0. -0. ...  1.  0. -0.]\n",
      " [ 0.  0. -0. ...  0.  1.  0.]\n",
      " [ 0.  0. -0. ... -0.  0.  1.]]\n"
     ]
    }
   ],
   "source": [
    "print(np.round(np.transpose(dct_mat(x)) @ dct_mat(x),3))"
   ]
  },
  {
   "cell_type": "code",
   "execution_count": null,
   "id": "f8f10bf3",
   "metadata": {},
   "outputs": [],
   "source": [
    "x_t = torch.tensor(x)\n",
    "x_t"
   ]
  },
  {
   "cell_type": "code",
   "execution_count": null,
   "id": "21a6a8fa",
   "metadata": {},
   "outputs": [],
   "source": [
    "x_t.shape[0:2]"
   ]
  },
  {
   "cell_type": "code",
   "execution_count": 15,
   "id": "993e4bb5",
   "metadata": {},
   "outputs": [],
   "source": [
    "dct_m = dct(np.eye(8,8),norm='ortho')\n",
    "\n",
    "# dct_mat_t = torch.from_numpy(dct_mat)"
   ]
  },
  {
   "cell_type": "code",
   "execution_count": 28,
   "id": "68673642",
   "metadata": {},
   "outputs": [
    {
     "data": {
      "text/plain": [
       "array([[ 0.354,  0.354,  0.354,  0.354,  0.354,  0.354,  0.354,  0.354],\n",
       "       [ 0.49 ,  0.416,  0.278,  0.098, -0.098, -0.278, -0.416, -0.49 ],\n",
       "       [ 0.462,  0.191, -0.191, -0.462, -0.462, -0.191,  0.191,  0.462],\n",
       "       [ 0.416, -0.098, -0.49 , -0.278,  0.278,  0.49 ,  0.098, -0.416],\n",
       "       [ 0.354, -0.354, -0.354,  0.354,  0.354, -0.354, -0.354,  0.354],\n",
       "       [ 0.278, -0.49 ,  0.098,  0.416, -0.416, -0.098,  0.49 , -0.278],\n",
       "       [ 0.191, -0.462,  0.462, -0.191, -0.191,  0.462, -0.462,  0.191],\n",
       "       [ 0.098, -0.278,  0.416, -0.49 ,  0.49 , -0.416,  0.278, -0.098]])"
      ]
     },
     "execution_count": 28,
     "metadata": {},
     "output_type": "execute_result"
    }
   ],
   "source": [
    "(np.round(dct_m,3).T)"
   ]
  },
  {
   "cell_type": "code",
   "execution_count": 9,
   "id": "62e50699",
   "metadata": {},
   "outputs": [
    {
     "data": {
      "text/plain": [
       "tensor([[-3.6838,  4.5511, -7.5077,  4.4449,  0.4294, -5.3993, -0.4791,  1.7339],\n",
       "        [-1.2269,  1.4055, -0.0327, -6.3631, -5.4746, -8.1634, -8.5513, -8.4383],\n",
       "        [-5.9288, -1.8082,  3.3115,  5.9906, -0.8547,  0.6720, 11.0837,  0.1459],\n",
       "        [-0.4827,  6.1672,  4.4707,  1.2702,  2.1766, -0.8641,  2.2093,  5.8620],\n",
       "        [ 2.6100,  0.3640,  1.7039, -0.1384,  2.8597,  3.4865, -7.2370,  3.6523],\n",
       "        [-2.0381, -3.2484, -8.8378, -6.0198, -0.7807,  0.6358,  1.4775, -0.4439],\n",
       "        [ 0.1965,  1.1532,  0.7930,  5.7270, -1.2698, -0.3852,  2.8126, -2.2283],\n",
       "        [ 8.1541,  3.6669, -0.9545, -2.3249,  1.0171,  1.3197,  2.8246, -0.2035]],\n",
       "       dtype=torch.float64)"
      ]
     },
     "execution_count": 9,
     "metadata": {},
     "output_type": "execute_result"
    }
   ],
   "source": [
    "F.linear(torch.from_numpy(x),torch.from_numpy(dct_mat))"
   ]
  },
  {
   "cell_type": "code",
   "execution_count": null,
   "id": "cb7cfbe4",
   "metadata": {},
   "outputs": [],
   "source": [
    "w = nn.Linear(x.shape[-1],dct_mat.shape[-1])\n",
    "w"
   ]
  },
  {
   "cell_type": "code",
   "execution_count": null,
   "id": "e25c03c6",
   "metadata": {},
   "outputs": [],
   "source": [
    "x_t.float()"
   ]
  },
  {
   "cell_type": "code",
   "execution_count": null,
   "id": "f40218dd",
   "metadata": {},
   "outputs": [],
   "source": [
    "w(x_t.float())"
   ]
  },
  {
   "cell_type": "code",
   "execution_count": null,
   "id": "fc12204f",
   "metadata": {},
   "outputs": [],
   "source": [
    "nn.Parameter(torch.matmul(x_t,dct_mat_t)).shape"
   ]
  },
  {
   "cell_type": "code",
   "execution_count": null,
   "id": "a789beca",
   "metadata": {},
   "outputs": [],
   "source": [
    "dct(x)"
   ]
  },
  {
   "cell_type": "code",
   "execution_count": null,
   "id": "cb466a9e",
   "metadata": {},
   "outputs": [],
   "source": [
    "dct2(np.eye(256,256))"
   ]
  },
  {
   "cell_type": "code",
   "execution_count": 228,
   "id": "f3ea4c11",
   "metadata": {},
   "outputs": [
    {
     "data": {
      "text/plain": [
       "[<matplotlib.lines.Line2D at 0x1bacd3e86a0>]"
      ]
     },
     "execution_count": 228,
     "metadata": {},
     "output_type": "execute_result"
    },
    {
     "data": {
      "image/png": "[encoded data removed]",
      "text/plain": [
       "<Figure size 432x288 with 1 Axes>"
      ]
     },
     "metadata": {
      "needs_background": "light"
     },
     "output_type": "display_data"
    }
   ],
   "source": [
    "plt.plot(dct_mat(x)[1])\n",
    "plt.plot(dct_mat(x)[2])\n",
    "plt.plot(dct_mat(x)[3])"
   ]
  },
  {
   "cell_type": "code",
   "execution_count": 227,
   "id": "e193f756",
   "metadata": {},
   "outputs": [
    {
     "data": {
      "text/plain": [
       "[<matplotlib.lines.Line2D at 0x1bacd5aba60>]"
      ]
     },
     "execution_count": 227,
     "metadata": {},
     "output_type": "execute_result"
    },
    {
     "data": {
      "image/png": "[encoded data removed]",
      "text/plain": [
       "<Figure size 432x288 with 1 Axes>"
      ]
     },
     "metadata": {
      "needs_background": "light"
     },
     "output_type": "display_data"
    }
   ],
   "source": [
    "# plt.figure()\n",
    "plt.plot(dct2(np.eye(32,32))[1])\n",
    "plt.plot(dct2(np.eye(32,32))[2])\n",
    "plt.plot(dct2(np.eye(32,32))[3])"
   ]
  },
  {
   "cell_type": "code",
   "execution_count": 230,
   "id": "f9cd2794",
   "metadata": {},
   "outputs": [
    {
     "data": {
      "text/plain": [
       "[<matplotlib.lines.Line2D at 0x1bacd60d340>]"
      ]
     },
     "execution_count": 230,
     "metadata": {},
     "output_type": "execute_result"
    },
    {
     "data": {
      "image/png": "[encoded data removed]",
      "text/plain": [
       "<Figure size 432x288 with 1 Axes>"
      ]
     },
     "metadata": {
      "needs_background": "light"
     },
     "output_type": "display_data"
    }
   ],
   "source": [
    "plt.plot((dct2(x)[0]))"
   ]
  },
  {
   "cell_type": "code",
   "execution_count": 231,
   "id": "bf01d861",
   "metadata": {},
   "outputs": [
    {
     "data": {
      "text/plain": [
       "[<matplotlib.lines.Line2D at 0x1bac69bef70>]"
      ]
     },
     "execution_count": 231,
     "metadata": {},
     "output_type": "execute_result"
    },
    {
     "data": {
      "image/png": "[encoded data removed]",
      "text/plain": [
       "<Figure size 432x288 with 1 Axes>"
      ]
     },
     "metadata": {
      "needs_background": "light"
     },
     "output_type": "display_data"
    }
   ],
   "source": [
    "plt.plot(x[0])"
   ]
  },
  {
   "cell_type": "code",
   "execution_count": null,
   "id": "6dbe099a",
   "metadata": {},
   "outputs": [],
   "source": [
    "dct2(x, norm='ortho') - dct(x,2, axis=0, norm='ortho')"
   ]
  },
  {
   "cell_type": "code",
   "execution_count": null,
   "id": "7e658cd5",
   "metadata": {},
   "outputs": [],
   "source": []
  }
 ],
 "metadata": {
  "kernelspec": {
   "display_name": "Python 3 (ipykernel)",
   "language": "python",
   "name": "python3"
  },
  "language_info": {
   "codemirror_mode": {
    "name": "ipython",
    "version": 3
   },
   "file_extension": ".py",
   "mimetype": "text/x-python",
   "name": "python",
   "nbconvert_exporter": "python",
   "pygments_lexer": "ipython3",
   "version": "3.9.7"
  }
 },
 "nbformat": 4,
 "nbformat_minor": 5
}
