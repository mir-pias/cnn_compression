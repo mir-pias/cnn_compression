{
 "cells": [
  {
   "cell_type": "code",
   "execution_count": 1,
   "id": "0991f95d",
   "metadata": {},
   "outputs": [],
   "source": [
    "import numpy as np\n",
    "import torch\n",
    "from torch import nn\n",
    "import torch.nn.functional as F\n",
    "import torchvision\n",
    "import torchvision.transforms as transforms\n",
    "from scipy.fft import dct\n",
    "import math"
   ]
  },
  {
   "cell_type": "code",
   "execution_count": 2,
   "id": "cb3194f5",
   "metadata": {},
   "outputs": [
    {
     "name": "stderr",
     "output_type": "stream",
     "text": [
      "D:\\TU_KL\\thesis\\cnn_comp\\lib\\site-packages\\torchvision\\datasets\\mnist.py:498: UserWarning: The given NumPy array is not writeable, and PyTorch does not support non-writeable tensors. This means you can write to the underlying (supposedly non-writeable) NumPy array using the tensor. You may want to copy the array to protect its data or make it writeable before converting it to a tensor. This type of warning will be suppressed for the rest of this program. (Triggered internally at  ..\\torch\\csrc\\utils\\tensor_numpy.cpp:180.)\n",
      "  return torch.from_numpy(parsed.astype(m[2], copy=False)).view(*s)\n"
     ]
    }
   ],
   "source": [
    "transform = transforms.Compose(\n",
    "    [transforms.ToTensor(), transforms.Resize((32, 32)),\n",
    "     transforms.Normalize((0.5,), (0.5,))])\n",
    "\n",
    "batch_size = 4\n",
    "\n",
    "trainset = torchvision.datasets.MNIST(root='../data', train=True,\n",
    "                                        download=True, transform=transform)\n",
    "trainloader = torch.utils.data.DataLoader(trainset, batch_size=batch_size,\n",
    "                                          shuffle=True, num_workers=2)\n",
    "\n",
    "testset = torchvision.datasets.MNIST(root='../data', train=False,\n",
    "                                       download=True, transform=transform)\n",
    "testloader = torch.utils.data.DataLoader(testset, batch_size=batch_size,\n",
    "                                         shuffle=False, num_workers=2)\n"
   ]
  },
  {
   "cell_type": "code",
   "execution_count": 3,
   "id": "c4c31b98",
   "metadata": {},
   "outputs": [],
   "source": [
    "class DCT_layer(nn.Module):\n",
    "    def __init__(self,out_features: int):\n",
    "        super(DCT_layer, self).__init__()\n",
    "        \n",
    "        self.out_features = out_features\n",
    "#         self.in_features = in_features\n",
    "        \n",
    "        default_dtype = torch.get_default_dtype()\n",
    "#         self.register_parameter('y', torch.nn.Parameter(torch.zeros(self.out_features, dtype=default_dtype)))\n",
    "        self.fc = nn.Parameter(torch.empty((self.out_features,batch_size), dtype=default_dtype))\n",
    "        \n",
    "        self.reset_parameters()\n",
    "        \n",
    "        self.mat = nn.Parameter(self.dct_mat(batch_size))\n",
    "#         self.y.register_hook(lambda grad: grad)\n",
    "#         self.fc.register_hook(lambda grad: grad)\n",
    "        \n",
    "        \n",
    "        \n",
    "    def dct2(self, x, norm=None):\n",
    "        N = len(x)\n",
    "        n = np.arange(N)\n",
    "\n",
    "        coeff_vec = []\n",
    "\n",
    "        for k in n:\n",
    "            yk = 0\n",
    "            for i in n:\n",
    "                yk += x[i] * np.cos(np.pi* k*(2*i + 1)/(2*N))\n",
    "            if norm=='ortho':\n",
    "                if k == 0:\n",
    "                    yk = np.sqrt(1/(4*N)) * yk\n",
    "                else:\n",
    "                    yk = np.sqrt(1/(2*N)) * yk\n",
    "            yk = yk*2\n",
    "            coeff_vec.append(yk)\n",
    "        \n",
    "#         print(torch.stack(coeff_vec))\n",
    "        return np.array(coeff_vec)\n",
    "\n",
    "#     def dct_mat(self,x):  ## generate dct matrix\n",
    "#         dct_mat = dct(np.eye(x.shape[-1]),norm='ortho')\n",
    "#         return torch.from_numpy(dct_mat).float()\n",
    "\n",
    "    \n",
    "    def dct_mat(self,batch_size): ## orthogonal dct matrix\n",
    "        N = batch_size\n",
    "        N = torch.tensor(N)\n",
    "        \n",
    "        default_dtype = torch.get_default_dtype()\n",
    "        \n",
    "        C = torch.zeros(N,N, dtype=default_dtype)\n",
    "        k = n = torch.arange(N)\n",
    "        \n",
    "        C[0,n] = torch.sqrt(1/N)           \n",
    "        for _k in k[1:]:\n",
    "            C[_k,n] = (torch.sqrt(2/N)*torch.cos((np.pi*_k*(1/2+n))/N)).float()\n",
    "        \n",
    "#         return torch.from_numpy(C).float().to(device)\n",
    "        return C\n",
    "\n",
    "    def dct_comp(self,x):\n",
    "        \n",
    "#         dct_x = self.dct2(x.detach().numpy(),norm='ortho')\n",
    "#         return torch.tensor(dct_x)\n",
    "        return self.mat.T @ x ## self.mat.T to make it same as scipy dct matrix\n",
    "    \n",
    "    def reset_parameters(self) -> None:\n",
    "        nn.init.kaiming_uniform_(self.fc, a=math.sqrt(5), nonlinearity='relu')\n",
    "        \n",
    "    def forward(self,x):\n",
    "#         self.dummy_input = nn.Parameter(torch.empty(1,x.shape[-1]))\n",
    "#         nn.init.kaiming_uniform_(self.dummy_input, a=math.sqrt(5), nonlinearity='relu')\n",
    "        \n",
    "        dct_x = nn.Parameter(self.dct_comp(x)) \n",
    "#         print(dummy_input.shape)\n",
    "#         print(self.fc.shape)\n",
    "#         print(dct_x.shape)\n",
    "        \n",
    "#         dct_x = torch.reshape(dct_x,(x.shape[-1],1)).float()\n",
    "        \n",
    "#         print(dct_x.shape)\n",
    "#         print(dct_x_rs.dtype)\n",
    "#         print(self.fc.dtype)\n",
    "        \n",
    "        w = nn.Parameter(self.fc @ dct_x) ##\n",
    "        \n",
    "#         w = w.T\n",
    "#         print(w.shape)\n",
    "        y = F.linear(x,w)\n",
    "        \n",
    "#         print(y.shape)\n",
    "        return y"
   ]
  },
  {
   "cell_type": "code",
   "execution_count": 4,
   "id": "bbdf1886",
   "metadata": {},
   "outputs": [
    {
     "name": "stdout",
     "output_type": "stream",
     "text": [
      "DCT_LeNet(\n",
      "  (conv1): Conv2d(1, 6, kernel_size=(5, 5), stride=(1, 1))\n",
      "  (conv2): Conv2d(6, 16, kernel_size=(5, 5), stride=(1, 1))\n",
      "  (conv3): Conv2d(16, 120, kernel_size=(5, 5), stride=(1, 1))\n",
      "  (dct): DCT_layer()\n",
      "  (fc2): Linear(in_features=84, out_features=10, bias=True)\n",
      ")\n"
     ]
    }
   ],
   "source": [
    "class DCT_LeNet(nn.Module):\n",
    "\n",
    "    def __init__(self):\n",
    "        super(DCT_LeNet, self).__init__()\n",
    "        self.conv1 = nn.Conv2d(1, 6, 5)\n",
    "        self.conv2 = nn.Conv2d(6, 16, 5)\n",
    "        self.conv3 = nn.Conv2d(16, 120, 5)  \n",
    "        \n",
    "#         self.fc1 = nn.Linear(120, 84)\n",
    "        self.dct = DCT_layer(84)\n",
    "        self.fc2 = nn.Linear(84, 10)\n",
    "\n",
    "\n",
    "    def forward(self, x):\n",
    "        x = F.max_pool2d(F.relu(self.conv1(x)),2)\n",
    "        x = F.max_pool2d(F.relu(self.conv2(x)),2)\n",
    "        x = F.relu(self.conv3(x))\n",
    "        \n",
    "        x = torch.flatten(x, 1) # flatten all dimensions except the batch dimension\n",
    "#         x = F.relu(self.dct(x))\n",
    "#         x = self.fc2(x)\n",
    "        x = F.relu(self.dct(x))\n",
    "        x = self.fc2(x) \n",
    "        return x\n",
    "\n",
    "\n",
    "dct_net = DCT_LeNet()\n",
    "print(dct_net)\n"
   ]
  },
  {
   "cell_type": "code",
   "execution_count": 5,
   "id": "5dacf5e1",
   "metadata": {},
   "outputs": [
    {
     "name": "stdout",
     "output_type": "stream",
     "text": [
      "LeNet(\n",
      "  (conv1): Conv2d(1, 6, kernel_size=(5, 5), stride=(1, 1))\n",
      "  (conv2): Conv2d(6, 16, kernel_size=(5, 5), stride=(1, 1))\n",
      "  (conv3): Conv2d(16, 120, kernel_size=(5, 5), stride=(1, 1))\n",
      "  (fc1): Linear(in_features=120, out_features=84, bias=True)\n",
      "  (fc2): Linear(in_features=84, out_features=10, bias=True)\n",
      ")\n"
     ]
    }
   ],
   "source": [
    "class LeNet(nn.Module):\n",
    "\n",
    "    def __init__(self):\n",
    "        super(LeNet, self).__init__()\n",
    "        self.conv1 = nn.Conv2d(1, 6, 5)\n",
    "        self.conv2 = nn.Conv2d(6, 16, 5)\n",
    "        self.conv3 = nn.Conv2d(16, 120, 5)  \n",
    "        \n",
    "        self.fc1 = nn.Linear(120, 84)\n",
    "        self.fc2 = nn.Linear(84, 10)\n",
    "\n",
    "    def forward(self, x):\n",
    "        x = F.max_pool2d(F.relu(self.conv1(x)),2)\n",
    "        x = F.max_pool2d(F.relu(self.conv2(x)),2)\n",
    "        x = F.relu(self.conv3(x))\n",
    "        \n",
    "        x = torch.flatten(x, 1) # flatten all dimensions except the batch dimension\n",
    "        x = F.relu(self.fc1(x))\n",
    "        x = self.fc2(x)\n",
    "        return x\n",
    "\n",
    "\n",
    "lenet = LeNet()\n",
    "print(lenet)"
   ]
  },
  {
   "cell_type": "raw",
   "id": "c9628c28",
   "metadata": {},
   "source": [
    "from torchviz import make_dot\n",
    "\n",
    "# batch_size = 2\n",
    "in_features = 120\n",
    "out_features = 84\n",
    "\n",
    "x = torch.nn.Parameter(torch.randn(batch_size, in_features))\n",
    "dct_layer = DCT_layer(out_features)\n",
    "\n",
    "linear_layer = nn.Linear(in_features,out_features)\n",
    "y = dct_layer(x)\n",
    "\n",
    "make_dot(\n",
    "    y,\n",
    "    params=dict(dct_layer.named_parameters()),\n",
    "    show_saved=True\n",
    ").render('../LinearDCT-dev7', format='png')"
   ]
  },
  {
   "cell_type": "code",
   "execution_count": 6,
   "id": "a58e0664",
   "metadata": {},
   "outputs": [],
   "source": [
    "def train(dataloader,model,criterion,optimizer):\n",
    "\n",
    "    train_loss = 0.0\n",
    "    for X, y in dataloader:\n",
    "        inputs, labels = X, y\n",
    "        \n",
    "        outputs = model(inputs)\n",
    "        loss = criterion(outputs, labels)\n",
    "        \n",
    "        optimizer.zero_grad()\n",
    "        loss.backward()\n",
    "        optimizer.step()\n",
    "\n",
    "        # print statistics\n",
    "        train_loss += loss.item()*inputs.size(0)\n",
    "    train_loss = train_loss/len(dataloader)\n",
    "    \n",
    "    print(f'Training Loss: {train_loss:.8f}')"
   ]
  },
  {
   "cell_type": "code",
   "execution_count": 7,
   "id": "50561ac4",
   "metadata": {},
   "outputs": [],
   "source": [
    "def test(dataloader, model, loss_fn):\n",
    "    size = len(dataloader.dataset)\n",
    "    num_batches = len(dataloader)\n",
    "    model.eval()\n",
    "    test_loss, correct = 0, 0\n",
    "    with torch.no_grad():\n",
    "        for X, y in dataloader:\n",
    "            X, y = X, y\n",
    "            pred = model(X)\n",
    "            test_loss += loss_fn(pred, y).item()\n",
    "            correct += (pred.argmax(1) == y).type(torch.float).sum().item()\n",
    "    test_loss /= num_batches\n",
    "    correct /= size\n",
    "    print(f\"Test Error: \\n Accuracy: {(100*correct):>0.1f}%, Avg loss: {test_loss:>8f} \\n\")"
   ]
  },
  {
   "cell_type": "code",
   "execution_count": 8,
   "id": "161b6df7",
   "metadata": {},
   "outputs": [
    {
     "name": "stdout",
     "output_type": "stream",
     "text": [
      "DCT_LeNet\n",
      "Epoch 1\n",
      "-------------------------------\n"
     ]
    },
    {
     "name": "stderr",
     "output_type": "stream",
     "text": [
      "D:\\TU_KL\\thesis\\cnn_comp\\lib\\site-packages\\torch\\nn\\functional.py:718: UserWarning: Named tensors and all their associated APIs are an experimental feature and subject to change. Please do not use them for anything important until they are released as stable. (Triggered internally at  ..\\c10/core/TensorImpl.h:1156.)\n",
      "  return torch.max_pool2d(input, kernel_size, stride, padding, dilation, ceil_mode)\n"
     ]
    },
    {
     "name": "stdout",
     "output_type": "stream",
     "text": [
      "Training Loss: 6.78275626\n",
      "Test Error: \n",
      " Accuracy: 38.6%, Avg loss: 1.449770 \n",
      "\n",
      "Epoch 2\n",
      "-------------------------------\n",
      "Training Loss: 5.68868047\n",
      "Test Error: \n",
      " Accuracy: 47.2%, Avg loss: 1.333088 \n",
      "\n",
      "Epoch 3\n",
      "-------------------------------\n",
      "Training Loss: 5.21988878\n",
      "Test Error: \n",
      " Accuracy: 47.6%, Avg loss: 1.286996 \n",
      "\n"
     ]
    }
   ],
   "source": [
    "import torch.optim as optim\n",
    "\n",
    "criterion = nn.CrossEntropyLoss()\n",
    "optimizer = optim.SGD(dct_net.parameters(), lr=0.001, momentum=0.9)\n",
    "\n",
    "print(\"DCT_LeNet\")\n",
    "epochs = 3\n",
    "for t in range(epochs):\n",
    "    print(f\"Epoch {t+1}\\n-------------------------------\")\n",
    "    train(trainloader, dct_net, criterion, optimizer)\n",
    "    test(testloader, dct_net, criterion)\n"
   ]
  },
  {
   "cell_type": "code",
   "execution_count": 9,
   "id": "6670b05e",
   "metadata": {},
   "outputs": [
    {
     "name": "stdout",
     "output_type": "stream",
     "text": [
      "LeNet\n",
      "Epoch 1\n",
      "-------------------------------\n",
      "Training Loss: 0.97524523\n",
      "Test Error: \n",
      " Accuracy: 98.1%, Avg loss: 0.061370 \n",
      "\n",
      "Epoch 2\n",
      "-------------------------------\n",
      "Training Loss: 0.23062377\n",
      "Test Error: \n",
      " Accuracy: 98.8%, Avg loss: 0.039129 \n",
      "\n",
      "Epoch 3\n",
      "-------------------------------\n",
      "Training Loss: 0.16029771\n",
      "Test Error: \n",
      " Accuracy: 99.0%, Avg loss: 0.035459 \n",
      "\n"
     ]
    }
   ],
   "source": [
    "criterion = nn.CrossEntropyLoss()\n",
    "optimizer = optim.SGD(lenet.parameters(), lr=0.001, momentum=0.9)\n",
    "\n",
    "print(\"LeNet\")\n",
    "epochs = 3\n",
    "for t in range(epochs):\n",
    "    print(f\"Epoch {t+1}\\n-------------------------------\")\n",
    "    train(trainloader, lenet, criterion, optimizer)\n",
    "    test(testloader, lenet, criterion)\n"
   ]
  },
  {
   "cell_type": "code",
   "execution_count": null,
   "id": "adb90c84",
   "metadata": {},
   "outputs": [],
   "source": []
  }
 ],
 "metadata": {
  "kernelspec": {
   "display_name": "Python 3 (ipykernel)",
   "language": "python",
   "name": "python3"
  },
  "language_info": {
   "codemirror_mode": {
    "name": "ipython",
    "version": 3
   },
   "file_extension": ".py",
   "mimetype": "text/x-python",
   "name": "python",
   "nbconvert_exporter": "python",
   "pygments_lexer": "ipython3",
   "version": "3.9.7"
  }
 },
 "nbformat": 4,
 "nbformat_minor": 5
}
