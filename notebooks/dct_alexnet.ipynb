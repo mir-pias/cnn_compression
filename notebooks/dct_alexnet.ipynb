{
 "cells": [
  {
   "cell_type": "code",
   "execution_count": 1,
   "id": "e9751e7c",
   "metadata": {},
   "outputs": [],
   "source": [
    "import numpy as np\n",
    "import torch\n",
    "from torch import nn\n",
    "import torch.nn.functional as F\n",
    "import torchvision\n",
    "import torchvision.transforms as transforms\n",
    "from scipy.fftpack import dct\n",
    "import math\n",
    "## cifar10 download problem solve\n",
    "import ssl\n",
    "ssl._create_default_https_context = ssl._create_unverified_context"
   ]
  },
  {
   "cell_type": "code",
   "execution_count": 2,
   "id": "2e382adf",
   "metadata": {},
   "outputs": [
    {
     "name": "stdout",
     "output_type": "stream",
     "text": [
      "Files already downloaded and verified\n",
      "Files already downloaded and verified\n"
     ]
    }
   ],
   "source": [
    "transform = transforms.Compose(\n",
    "    [transforms.ToTensor(),\n",
    "     transforms.Normalize((0.5, 0.5, 0.5), (0.5, 0.5, 0.5))])\n",
    "\n",
    "batch_size = 32\n",
    "\n",
    "trainset = torchvision.datasets.CIFAR10(root='../data', train=True,\n",
    "                                        download=True, transform=transform)\n",
    "trainloader = torch.utils.data.DataLoader(trainset, batch_size=batch_size,\n",
    "                                          shuffle=True, num_workers=2)\n",
    "\n",
    "testset = torchvision.datasets.CIFAR10(root='../data', train=False,\n",
    "                                       download=True, transform=transform)\n",
    "testloader = torch.utils.data.DataLoader(testset, batch_size=batch_size,\n",
    "                                         shuffle=False, num_workers=2)\n",
    "\n",
    "classes = ('plane', 'car', 'bird', 'cat',\n",
    "           'deer', 'dog', 'frog', 'horse', 'ship', 'truck')"
   ]
  },
  {
   "cell_type": "code",
   "execution_count": 3,
   "id": "d30a810a",
   "metadata": {},
   "outputs": [],
   "source": [
    "device = \"cuda\" if torch.cuda.is_available() else \"cpu\""
   ]
  },
  {
   "cell_type": "code",
   "execution_count": 4,
   "id": "ad505039",
   "metadata": {},
   "outputs": [],
   "source": [
    "class DCT_layer(nn.Module):\n",
    "    def __init__(self,out_features: int):\n",
    "        super(DCT_layer, self).__init__()\n",
    "        \n",
    "        self.out_features = out_features\n",
    "        \n",
    "        default_dtype = torch.get_default_dtype()\n",
    "        self.fc = nn.Parameter(torch.arange((self.out_features), dtype=default_dtype).reshape(-1,1))     \n",
    "        \n",
    "        self.fc.register_hook(lambda grad: grad / (torch.linalg.norm(grad) + 1e-8))\n",
    "\n",
    "    def dct_kernel(self,t): \n",
    "        dct_m = np.sqrt(2/(self.out_features)) * torch.cos(0.5 * np.pi * self.fc * (2 * t + 1) / self.out_features)\n",
    "        \n",
    "        dct_m[0] = dct_m[0]/np.sqrt(2)\n",
    "        \n",
    "        return dct_m\n",
    "    \n",
    "        \n",
    "    def forward(self,x):\n",
    "#         print(x.shape)\n",
    "        t = torch.arange(x.shape[-1]).reshape(1,-1).to(device)\n",
    "        w = self.dct_kernel(t) \n",
    "        \n",
    "        \n",
    "        y = F.linear(x,w)   \n",
    "        return y"
   ]
  },
  {
   "cell_type": "code",
   "execution_count": 5,
   "id": "97f70b6a",
   "metadata": {},
   "outputs": [],
   "source": [
    "class DCT_conv_layer(nn.Module):\n",
    "    def __init__(self,in_channels: int,out_channels: int, kernel_size, stride=1,padding=0):\n",
    "        super(DCT_conv_layer, self).__init__()\n",
    "        \n",
    "        self.out_channels = out_channels\n",
    "        self.in_channels = in_channels\n",
    "        self.kernel_size = kernel_size\n",
    "        self.stride = stride\n",
    "        self.padding = padding\n",
    "        \n",
    "        default_dtype = torch.get_default_dtype()\n",
    "        self.fc = nn.Parameter(torch.arange((self.kernel_size), dtype=default_dtype, device=device).reshape(-1,1))     \n",
    "        \n",
    "        self.fc.register_hook(lambda grad: grad / (torch.linalg.norm(grad) + 1e-8))\n",
    "\n",
    "    def dct_kernel(self,t): \n",
    "        dct_m = np.sqrt(2/(self.kernel_size)) * torch.cos(0.5 * np.pi * self.fc * (2 * t + 1) / self.kernel_size)\n",
    "        \n",
    "        dct_m[0] = dct_m[0]/np.sqrt(2)\n",
    "        \n",
    "        return dct_m.to(device)\n",
    "    \n",
    "    def kernel_reshape(self,w):\n",
    "        dct_l1 = []\n",
    "        for i in range(self.out_channels):\n",
    "            dct_l1.append(w)\n",
    "            \n",
    "        a = torch.stack(dct_l1,0)\n",
    "        \n",
    "        dct_l2 = []\n",
    "        for i in range(self.in_channels):\n",
    "            dct_l2.append(a)\n",
    "        \n",
    "        b = torch.stack(dct_l2,1)\n",
    "        \n",
    "        return b\n",
    "        \n",
    "    def forward(self,x):\n",
    "#         print(x.shape)\n",
    "#         default_dtype = torch.get_default_dtype()\n",
    "#         self.fc = nn.Parameter(torch.arange((x.shape[-1]), dtype=default_dtype, device=device).reshape(-1,1))\n",
    "#         self.fc.register_hook(lambda grad: grad / (torch.linalg.norm(grad) + 1e-8))\n",
    "        \n",
    "        \n",
    "        t = torch.arange(self.kernel_size).reshape(1,-1).to(device)\n",
    "        dct_m = self.dct_kernel(t) \n",
    "        \n",
    "#         conv = nn.Conv2d(self.in_channels, self.out_channels, kernel_size = self.kernel_size, \n",
    "#                          stride= self.stride, padding = self.padding).to(device)\n",
    "        w = self.kernel_reshape(dct_m)\n",
    "#         print(x.shape)\n",
    "#         print(w.shape)\n",
    "#         print((x@w.T).shape)\n",
    "        \n",
    "        y = F.conv2d(x,w,stride = self.stride, padding = self.padding)   \n",
    "        return y"
   ]
  },
  {
   "cell_type": "code",
   "execution_count": 6,
   "id": "d90f871f",
   "metadata": {},
   "outputs": [
    {
     "data": {
      "text/plain": [
       "torch.Size([32, 64, 16, 16])"
      ]
     },
     "execution_count": 6,
     "metadata": {},
     "output_type": "execute_result"
    }
   ],
   "source": [
    "in_features = 256 * 2 * 2\n",
    "out_features = 32\n",
    "\n",
    "x = torch.nn.Parameter(torch.randn(batch_size,3,32,32))\n",
    "\n",
    "dct_layer = DCT_conv_layer(3,64,3,2,1)\n",
    "\n",
    "y = dct_layer(x.to(device))\n",
    "y.shape"
   ]
  },
  {
   "cell_type": "code",
   "execution_count": 7,
   "id": "d9c1931e",
   "metadata": {},
   "outputs": [
    {
     "data": {
      "text/plain": [
       "torch.Size([32, 64, 16, 16])"
      ]
     },
     "execution_count": 7,
     "metadata": {},
     "output_type": "execute_result"
    }
   ],
   "source": [
    "conv = nn.Conv2d(3, 64, kernel_size=3, stride=2, padding=1)\n",
    "\n",
    "conv(x).shape"
   ]
  },
  {
   "cell_type": "code",
   "execution_count": 8,
   "id": "b8a4f3ad",
   "metadata": {},
   "outputs": [
    {
     "name": "stderr",
     "output_type": "stream",
     "text": [
      "D:\\TU_KL\\thesis\\cnn_comp\\lib\\site-packages\\torch\\nn\\functional.py:718: UserWarning: Named tensors and all their associated APIs are an experimental feature and subject to change. Please do not use them for anything important until they are released as stable. (Triggered internally at  ..\\c10/core/TensorImpl.h:1156.)\n",
      "  return torch.max_pool2d(input, kernel_size, stride, padding, dilation, ceil_mode)\n"
     ]
    },
    {
     "data": {
      "text/plain": [
       "torch.Size([32, 64, 8, 8])"
      ]
     },
     "execution_count": 8,
     "metadata": {},
     "output_type": "execute_result"
    }
   ],
   "source": [
    "maxpool = nn.MaxPool2d(kernel_size=2)\n",
    "\n",
    "x_pool = maxpool(y)\n",
    "\n",
    "x_pool.shape"
   ]
  },
  {
   "cell_type": "code",
   "execution_count": 9,
   "id": "aac34afc",
   "metadata": {},
   "outputs": [
    {
     "data": {
      "text/plain": [
       "torch.Size([32, 192, 8, 8])"
      ]
     },
     "execution_count": 9,
     "metadata": {},
     "output_type": "execute_result"
    }
   ],
   "source": [
    "dct_layer2 = DCT_conv_layer(64,192,3,padding=1)\n",
    "\n",
    "y2 = dct_layer2(x_pool)\n",
    "\n",
    "y2.shape"
   ]
  },
  {
   "cell_type": "code",
   "execution_count": 10,
   "id": "4e86286b",
   "metadata": {},
   "outputs": [
    {
     "data": {
      "text/plain": [
       "torch.Size([32, 384, 4, 4])"
      ]
     },
     "execution_count": 10,
     "metadata": {},
     "output_type": "execute_result"
    }
   ],
   "source": [
    "dct_layer3 = DCT_conv_layer(192,384,3,padding=1)\n",
    "x_pool2 = maxpool(y2)\n",
    "\n",
    "y3 = dct_layer3(x_pool2)\n",
    "y3.shape"
   ]
  },
  {
   "cell_type": "code",
   "execution_count": 11,
   "id": "d34638d7",
   "metadata": {},
   "outputs": [
    {
     "data": {
      "text/plain": [
       "torch.Size([32, 192, 16, 16])"
      ]
     },
     "execution_count": 11,
     "metadata": {},
     "output_type": "execute_result"
    }
   ],
   "source": [
    "conv2 = nn.Conv2d(64, 192, kernel_size=3, padding=1)\n",
    "\n",
    "conv2(conv(x)).shape"
   ]
  },
  {
   "cell_type": "code",
   "execution_count": 12,
   "id": "3705f706",
   "metadata": {},
   "outputs": [
    {
     "name": "stdout",
     "output_type": "stream",
     "text": [
      "torch.Size([32, 3, 32, 32])\n"
     ]
    }
   ],
   "source": [
    "for X, y in trainloader:\n",
    "    inputs, labels = X, y\n",
    "    print(inputs.shape)\n",
    "    break"
   ]
  },
  {
   "cell_type": "code",
   "execution_count": 13,
   "id": "63bef2f8",
   "metadata": {},
   "outputs": [
    {
     "name": "stdout",
     "output_type": "stream",
     "text": [
      "AlexNet(\n",
      "  (features): Sequential(\n",
      "    (0): DCT_conv_layer()\n",
      "    (1): ReLU(inplace=True)\n",
      "    (2): MaxPool2d(kernel_size=2, stride=2, padding=0, dilation=1, ceil_mode=False)\n",
      "    (3): DCT_conv_layer()\n",
      "    (4): ReLU(inplace=True)\n",
      "    (5): MaxPool2d(kernel_size=2, stride=2, padding=0, dilation=1, ceil_mode=False)\n",
      "    (6): Conv2d(192, 384, kernel_size=(3, 3), stride=(1, 1), padding=(1, 1))\n",
      "    (7): ReLU(inplace=True)\n",
      "    (8): Conv2d(384, 256, kernel_size=(3, 3), stride=(1, 1), padding=(1, 1))\n",
      "    (9): ReLU(inplace=True)\n",
      "    (10): Conv2d(256, 256, kernel_size=(3, 3), stride=(1, 1), padding=(1, 1))\n",
      "    (11): ReLU(inplace=True)\n",
      "    (12): MaxPool2d(kernel_size=2, stride=2, padding=0, dilation=1, ceil_mode=False)\n",
      "  )\n",
      "  (classifier): Sequential(\n",
      "    (0): Dropout(p=0.5, inplace=False)\n",
      "    (1): Linear(in_features=1024, out_features=4096, bias=True)\n",
      "    (2): ReLU(inplace=True)\n",
      "    (3): Dropout(p=0.5, inplace=False)\n",
      "    (4): Linear(in_features=4096, out_features=4096, bias=True)\n",
      "    (5): ReLU(inplace=True)\n",
      "    (6): Linear(in_features=4096, out_features=10, bias=True)\n",
      "  )\n",
      ")\n"
     ]
    }
   ],
   "source": [
    "class AlexNet(nn.Module):\n",
    "\n",
    "    def __init__(self, num_classes: int = 10) -> None:\n",
    "        super(AlexNet, self).__init__()\n",
    "        self.features = nn.Sequential(\n",
    "#             nn.Conv2d(3, 64, kernel_size=3, stride=2, padding=1),\n",
    "            DCT_conv_layer(3, 64, kernel_size=3, stride=2, padding=1),\n",
    "            nn.ReLU(inplace=True),\n",
    "            nn.MaxPool2d(kernel_size=2),\n",
    "#             nn.Conv2d(64, 192, kernel_size=3, padding=1),\n",
    "            DCT_conv_layer(64, 192, kernel_size=3, padding=1),\n",
    "            nn.ReLU(inplace=True),\n",
    "            nn.MaxPool2d(kernel_size=2),\n",
    "            nn.Conv2d(192, 384, kernel_size=3, padding=1),\n",
    "#             DCT_conv_layer(192, 384, kernel_size=3, padding=1),\n",
    "            nn.ReLU(inplace=True),\n",
    "            nn.Conv2d(384, 256, kernel_size=3, padding=1),\n",
    "#             DCT_conv_layer(384, 256, kernel_size=3, padding=1),\n",
    "            nn.ReLU(inplace=True),\n",
    "            nn.Conv2d(256, 256, kernel_size=3, padding=1),\n",
    "#             DCT_conv_layer(256, 256, kernel_size=3, padding=1),\n",
    "            nn.ReLU(inplace=True),\n",
    "            nn.MaxPool2d(kernel_size=2),\n",
    "        )\n",
    "        self.classifier = nn.Sequential(\n",
    "            nn.Dropout(),\n",
    "            nn.Linear(256 * 2 * 2, 4096),\n",
    "#             DCT_layer(4096),\n",
    "            nn.ReLU(inplace=True),\n",
    "            nn.Dropout(),\n",
    "#             DCT_layer(4096),\n",
    "            nn.Linear(4096, 4096),\n",
    "            nn.ReLU(inplace=True),\n",
    "            nn.Linear(4096, num_classes),\n",
    "#             DCT_layer(num_classes)\n",
    "        )\n",
    "\n",
    "    def forward(self, x: torch.Tensor) -> torch.Tensor:\n",
    "        x = self.features(x)\n",
    "        x = x.view(x.size(0), 256 * 2 * 2)\n",
    "        x = self.classifier(x)\n",
    "        return x\n",
    "    \n",
    "net = AlexNet(num_classes=10).to(device)\n",
    "print(net)\n"
   ]
  },
  {
   "cell_type": "code",
   "execution_count": 14,
   "id": "6db3d1af",
   "metadata": {},
   "outputs": [],
   "source": [
    "def train(dataloader,model,criterion,optimizer):\n",
    "#     torch.autograd.detect_anomaly() \n",
    "    train_loss = 0.0\n",
    "    for X, y in dataloader:\n",
    "        inputs, labels = X.to(device), y.to(device)\n",
    "        \n",
    "        outputs = model(inputs)\n",
    "        loss = criterion(outputs, labels)\n",
    "        \n",
    "        optimizer.zero_grad()\n",
    "        loss.backward()\n",
    "        optimizer.step()\n",
    "\n",
    "        # print statistics\n",
    "        train_loss += loss.item()*inputs.size(0)\n",
    "    train_loss = train_loss/len(dataloader)\n",
    "    \n",
    "    print(f'Training Loss: {train_loss:.8f}')"
   ]
  },
  {
   "cell_type": "code",
   "execution_count": 15,
   "id": "0c4d6014",
   "metadata": {},
   "outputs": [],
   "source": [
    "def test(dataloader, model, loss_fn):\n",
    "    size = len(dataloader.dataset)\n",
    "    num_batches = len(dataloader)\n",
    "    model.eval()\n",
    "    test_loss, correct = 0, 0\n",
    "    with torch.no_grad():\n",
    "        for X, y in dataloader:\n",
    "            X, y = X.to(device), y.to(device)\n",
    "            pred = model(X)\n",
    "            test_loss += loss_fn(pred, y).item()\n",
    "            correct += (pred.argmax(1) == y).type(torch.float).sum().item()\n",
    "    test_loss /= num_batches\n",
    "    correct /= size\n",
    "    print(f\"Test Error: \\n Accuracy: {(100*correct):>0.1f}%, Avg loss: {test_loss:>8f} \\n\")"
   ]
  },
  {
   "cell_type": "code",
   "execution_count": 16,
   "id": "c162a001",
   "metadata": {},
   "outputs": [
    {
     "name": "stdout",
     "output_type": "stream",
     "text": [
      "DCT_AlexNet\n",
      "Epoch 1\n",
      "-------------------------------\n",
      "Training Loss: 88.17283847\n",
      "Test Error: \n",
      " Accuracy: 16.8%, Avg loss: 2.223032 \n",
      "\n",
      "Epoch 2\n",
      "-------------------------------\n",
      "Training Loss: 69.73166155\n",
      "Test Error: \n",
      " Accuracy: 22.0%, Avg loss: 2.146977 \n",
      "\n",
      "Epoch 3\n",
      "-------------------------------\n",
      "Training Loss: 68.30586037\n",
      "Test Error: \n",
      " Accuracy: 23.4%, Avg loss: 2.115977 \n",
      "\n",
      "Epoch 4\n",
      "-------------------------------\n",
      "Training Loss: 67.46924700\n",
      "Test Error: \n",
      " Accuracy: 24.3%, Avg loss: 2.095195 \n",
      "\n",
      "Epoch 5\n",
      "-------------------------------\n",
      "Training Loss: 66.86885623\n",
      "Test Error: \n",
      " Accuracy: 24.6%, Avg loss: 2.081988 \n",
      "\n"
     ]
    }
   ],
   "source": [
    "import torch.optim as optim\n",
    "\n",
    "criterion = nn.CrossEntropyLoss()\n",
    "optimizer = optim.SGD(net.parameters(), lr=1e-4, momentum=0.9)\n",
    "\n",
    "print(\"DCT_AlexNet\")\n",
    "epochs = 5\n",
    "for t in range(epochs):\n",
    "    print(f\"Epoch {t+1}\\n-------------------------------\")\n",
    "    train(trainloader, net, criterion, optimizer)\n",
    "    test(testloader, net, criterion)\n"
   ]
  },
  {
   "cell_type": "code",
   "execution_count": null,
   "id": "777a81ce",
   "metadata": {},
   "outputs": [],
   "source": []
  },
  {
   "cell_type": "code",
   "execution_count": null,
   "id": "a9dad843",
   "metadata": {},
   "outputs": [],
   "source": []
  }
 ],
 "metadata": {
  "kernelspec": {
   "display_name": "Python 3 (ipykernel)",
   "language": "python",
   "name": "python3"
  },
  "language_info": {
   "codemirror_mode": {
    "name": "ipython",
    "version": 3
   },
   "file_extension": ".py",
   "mimetype": "text/x-python",
   "name": "python",
   "nbconvert_exporter": "python",
   "pygments_lexer": "ipython3",
   "version": "3.9.7"
  }
 },
 "nbformat": 4,
 "nbformat_minor": 5
}
