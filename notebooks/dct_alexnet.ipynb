{
 "cells": [
  {
   "cell_type": "code",
   "execution_count": 1,
   "id": "e9751e7c",
   "metadata": {},
   "outputs": [],
   "source": [
    "import sys  \n",
    "sys.path.insert(0, 'D:/TU_KL/thesis/cnn_compression')\n",
    "\n",
    "import numpy as np\n",
    "import torch\n",
    "from torch import nn\n",
    "import torch.nn.functional as F\n",
    "import torchvision\n",
    "import torchvision.transforms as transforms\n",
    "from models.DCT_alexnets_cifar10 import DCT_AlexNet\n",
    "from scipy.fftpack import dct\n",
    "import math\n",
    "## cifar10 download problem solve\n",
    "import ssl\n",
    "ssl._create_default_https_context = ssl._create_unverified_context"
   ]
  },
  {
   "cell_type": "code",
   "execution_count": 2,
   "id": "2e382adf",
   "metadata": {},
   "outputs": [
    {
     "name": "stdout",
     "output_type": "stream",
     "text": [
      "Files already downloaded and verified\n",
      "Files already downloaded and verified\n"
     ]
    }
   ],
   "source": [
    "transform = transforms.Compose(\n",
    "    [transforms.ToTensor(),\n",
    "     transforms.Normalize((0.5, 0.5, 0.5), (0.5, 0.5, 0.5))])\n",
    "\n",
    "batch_size = 32\n",
    "\n",
    "trainset = torchvision.datasets.CIFAR10(root='../data', train=True,\n",
    "                                        download=True, transform=transform)\n",
    "trainloader = torch.utils.data.DataLoader(trainset, batch_size=batch_size,\n",
    "                                          shuffle=True, num_workers=2)\n",
    "\n",
    "testset = torchvision.datasets.CIFAR10(root='../data', train=False,\n",
    "                                       download=True, transform=transform)\n",
    "testloader = torch.utils.data.DataLoader(testset, batch_size=batch_size,\n",
    "                                         shuffle=False, num_workers=2)\n",
    "\n",
    "classes = ('plane', 'car', 'bird', 'cat',\n",
    "           'deer', 'dog', 'frog', 'horse', 'ship', 'truck')"
   ]
  },
  {
   "cell_type": "code",
   "execution_count": 3,
   "id": "d30a810a",
   "metadata": {},
   "outputs": [],
   "source": [
    "device = \"cuda\" if torch.cuda.is_available() else \"cpu\""
   ]
  },
  {
   "cell_type": "raw",
   "id": "7ae86d4c",
   "metadata": {},
   "source": [
    "in_features = 256 * 2 * 2\n",
    "out_features = 32\n",
    "\n",
    "x = torch.nn.Parameter(torch.randn(batch_size,3,32,32))\n",
    "\n",
    "dct_layer = DCT_conv_layer(3,64,3,2,1)\n",
    "\n",
    "y = dct_layer(x.to(device))\n",
    "y.shape"
   ]
  },
  {
   "cell_type": "raw",
   "id": "c61dc640",
   "metadata": {},
   "source": [
    "conv = nn.Conv2d(3, 64, kernel_size=3, stride=2, padding=1)\n",
    "\n",
    "conv(x).shape"
   ]
  },
  {
   "cell_type": "raw",
   "id": "c7d3ea88",
   "metadata": {},
   "source": [
    "maxpool = nn.MaxPool2d(kernel_size=2)\n",
    "\n",
    "x_pool = maxpool(y)\n",
    "\n",
    "x_pool.shape"
   ]
  },
  {
   "cell_type": "raw",
   "id": "e1338dcf",
   "metadata": {},
   "source": [
    "dct_layer2 = DCT_conv_layer(64,192,3,padding=1)\n",
    "\n",
    "y2 = dct_layer2(x_pool)\n",
    "\n",
    "y2.shape"
   ]
  },
  {
   "cell_type": "raw",
   "id": "5beb590a",
   "metadata": {},
   "source": [
    "dct_layer3 = DCT_conv_layer(192,384,3,padding=1)\n",
    "x_pool2 = maxpool(y2)\n",
    "\n",
    "y3 = dct_layer3(x_pool2)\n",
    "y3.shape"
   ]
  },
  {
   "cell_type": "raw",
   "id": "5624b1f6",
   "metadata": {},
   "source": [
    "conv2 = nn.Conv2d(64, 192, kernel_size=3, padding=1)\n",
    "\n",
    "conv2(conv(x)).shape"
   ]
  },
  {
   "cell_type": "raw",
   "id": "70049400",
   "metadata": {},
   "source": [
    "for X, y in trainloader:\n",
    "    inputs, labels = X, y\n",
    "    print(inputs.shape)\n",
    "    break"
   ]
  },
  {
   "cell_type": "code",
   "execution_count": 4,
   "id": "a2ecafe4",
   "metadata": {},
   "outputs": [
    {
     "name": "stdout",
     "output_type": "stream",
     "text": [
      "DCT_AlexNet(\n",
      "  (features): Sequential(\n",
      "    (0): Conv2dDCT(in_channels=3, out_channels=64, kernel_size=(3,), stride=(2,), padding=(1,))\n",
      "    (1): ReLU(inplace=True)\n",
      "    (2): MaxPool2d(kernel_size=2, stride=2, padding=0, dilation=1, ceil_mode=False)\n",
      "    (3): Conv2dDCT(in_channels=64, out_channels=192, kernel_size=(3,), stride=(1,), padding=(1,))\n",
      "    (4): ReLU(inplace=True)\n",
      "    (5): MaxPool2d(kernel_size=2, stride=2, padding=0, dilation=1, ceil_mode=False)\n",
      "    (6): Conv2dDCT(in_channels=192, out_channels=384, kernel_size=(3,), stride=(1,), padding=(1,))\n",
      "    (7): ReLU(inplace=True)\n",
      "    (8): Conv2dDCT(in_channels=384, out_channels=256, kernel_size=(3,), stride=(1,), padding=(1,))\n",
      "    (9): ReLU(inplace=True)\n",
      "    (10): Conv2dDCT(in_channels=256, out_channels=256, kernel_size=(3,), stride=(1,), padding=(1,))\n",
      "    (11): ReLU(inplace=True)\n",
      "    (12): MaxPool2d(kernel_size=2, stride=2, padding=0, dilation=1, ceil_mode=False)\n",
      "  )\n",
      "  (classifier): Sequential(\n",
      "    (0): Dropout(p=0.5, inplace=False)\n",
      "    (1): LinearDCT(in_features=1024, out_features=4096, bias=True)\n",
      "    (2): ReLU(inplace=True)\n",
      "    (3): Dropout(p=0.5, inplace=False)\n",
      "    (4): LinearDCT(in_features=4096, out_features=4096, bias=True)\n",
      "    (5): ReLU(inplace=True)\n",
      "    (6): Linear(in_features=4096, out_features=10, bias=True)\n",
      "  )\n",
      ")\n"
     ]
    }
   ],
   "source": [
    "net = DCT_AlexNet(num_classes=10).to(device)\n",
    "print(net)"
   ]
  },
  {
   "cell_type": "code",
   "execution_count": 5,
   "id": "6db3d1af",
   "metadata": {},
   "outputs": [],
   "source": [
    "def train(dataloader,model,criterion,optimizer):\n",
    "#     torch.autograd.detect_anomaly() \n",
    "    train_loss = 0.0\n",
    "    for X, y in dataloader:\n",
    "        inputs, labels = X.to(device), y.to(device)\n",
    "        \n",
    "        outputs = model(inputs)\n",
    "        loss = criterion(outputs, labels)\n",
    "        \n",
    "        optimizer.zero_grad()\n",
    "        loss.backward()\n",
    "        optimizer.step()\n",
    "\n",
    "        # print statistics\n",
    "        train_loss += loss.item()*inputs.size(0)\n",
    "    train_loss = train_loss/len(dataloader)\n",
    "    \n",
    "    print(f'Training Loss: {train_loss:.8f}')"
   ]
  },
  {
   "cell_type": "code",
   "execution_count": 6,
   "id": "0c4d6014",
   "metadata": {},
   "outputs": [],
   "source": [
    "def test(dataloader, model, loss_fn):\n",
    "    size = len(dataloader.dataset)\n",
    "    num_batches = len(dataloader)\n",
    "    model.eval()\n",
    "    test_loss, correct = 0, 0\n",
    "    with torch.no_grad():\n",
    "        for X, y in dataloader:\n",
    "            X, y = X.to(device), y.to(device)\n",
    "            pred = model(X)\n",
    "            test_loss += loss_fn(pred, y).item()\n",
    "            correct += (pred.argmax(1) == y).type(torch.float).sum().item()\n",
    "    test_loss /= num_batches\n",
    "    correct /= size\n",
    "    print(f\"Test Error: \\n Accuracy: {(100*correct):>0.1f}%, Avg loss: {test_loss:>8f} \\n\")"
   ]
  },
  {
   "cell_type": "code",
   "execution_count": 7,
   "id": "c162a001",
   "metadata": {},
   "outputs": [
    {
     "name": "stdout",
     "output_type": "stream",
     "text": [
      "DCT_AlexNet.......old dct_conv + linear_dct\n",
      "Epoch 1\n",
      "-------------------------------\n"
     ]
    },
    {
     "name": "stderr",
     "output_type": "stream",
     "text": [
      "d:\\TU_KL\\thesis\\cnn_comp\\lib\\site-packages\\torch\\nn\\functional.py:718: UserWarning: Named tensors and all their associated APIs are an experimental feature and subject to change. Please do not use them for anything important until they are released as stable. (Triggered internally at  ..\\c10/core/TensorImpl.h:1156.)\n",
      "  return torch.max_pool2d(input, kernel_size, stride, padding, dilation, ceil_mode)\n"
     ]
    },
    {
     "name": "stdout",
     "output_type": "stream",
     "text": [
      "Training Loss: 73.48244739\n",
      "Test Error: \n",
      " Accuracy: 22.1%, Avg loss: 2.091920 \n",
      "\n",
      "Epoch 2\n",
      "-------------------------------\n",
      "Training Loss: 63.19896191\n",
      "Test Error: \n",
      " Accuracy: 34.2%, Avg loss: 1.832240 \n",
      "\n",
      "Epoch 3\n",
      "-------------------------------\n",
      "Training Loss: 59.94092828\n",
      "Test Error: \n",
      " Accuracy: 35.3%, Avg loss: 1.802803 \n",
      "\n",
      "Epoch 4\n",
      "-------------------------------\n",
      "Training Loss: 57.61938524\n",
      "Test Error: \n",
      " Accuracy: 34.3%, Avg loss: 1.774468 \n",
      "\n",
      "Epoch 5\n",
      "-------------------------------\n",
      "Training Loss: 56.12502264\n",
      "Test Error: \n",
      " Accuracy: 35.3%, Avg loss: 1.784354 \n",
      "\n"
     ]
    }
   ],
   "source": [
    "import torch.optim as optim\n",
    "\n",
    "criterion = nn.CrossEntropyLoss()\n",
    "optimizer = optim.SGD(net.parameters(), lr=1e-3, momentum=0.9)\n",
    "\n",
    "print(\"DCT_AlexNet.......old dct_conv + linear_dct\")\n",
    "epochs = 5\n",
    "for t in range(epochs):\n",
    "    print(f\"Epoch {t+1}\\n-------------------------------\")\n",
    "    train(trainloader, net, criterion, optimizer)\n",
    "    test(testloader, net, criterion)\n"
   ]
  },
  {
   "cell_type": "code",
   "execution_count": 8,
   "id": "44d3c891",
   "metadata": {},
   "outputs": [
    {
     "name": "stdout",
     "output_type": "stream",
     "text": [
      "no of trainable params: 59673\n"
     ]
    }
   ],
   "source": [
    "## no. of paramaters\n",
    "print('no of trainable params:', sum(p.numel() for p in net.parameters() if p.requires_grad))"
   ]
  },
  {
   "cell_type": "code",
   "execution_count": 9,
   "id": "61b77a26",
   "metadata": {},
   "outputs": [
    {
     "name": "stdout",
     "output_type": "stream",
     "text": [
      "+---------------------+------------+\n",
      "|       Modules       | Parameters |\n",
      "+---------------------+------------+\n",
      "|    features.0.fcc   |     64     |\n",
      "|    features.0.fcl   |     3      |\n",
      "|   features.0.bias   |     64     |\n",
      "|    features.3.fcc   |    192     |\n",
      "|    features.3.fcl   |     3      |\n",
      "|   features.3.bias   |    192     |\n",
      "|    features.6.fcc   |    384     |\n",
      "|    features.6.fcl   |     3      |\n",
      "|   features.6.bias   |    384     |\n",
      "|    features.8.fcc   |    256     |\n",
      "|    features.8.fcl   |     3      |\n",
      "|   features.8.bias   |    256     |\n",
      "|   features.10.fcc   |    256     |\n",
      "|   features.10.fcl   |     3      |\n",
      "|   features.10.bias  |    256     |\n",
      "|   classifier.1.fc   |    4096    |\n",
      "|  classifier.1.bias  |    4096    |\n",
      "|   classifier.4.fc   |    4096    |\n",
      "|  classifier.4.bias  |    4096    |\n",
      "| classifier.6.weight |   40960    |\n",
      "|  classifier.6.bias  |     10     |\n",
      "+---------------------+------------+\n",
      "Total Trainable Params: 59673\n"
     ]
    },
    {
     "data": {
      "text/plain": [
       "59673"
      ]
     },
     "execution_count": 9,
     "metadata": {},
     "output_type": "execute_result"
    }
   ],
   "source": [
    "from prettytable import PrettyTable\n",
    "\n",
    "def count_parameters(model):\n",
    "    table = PrettyTable([\"Modules\", \"Parameters\"])\n",
    "    total_params = 0\n",
    "    for name, parameter in model.named_parameters():\n",
    "        if not parameter.requires_grad: continue\n",
    "        params = parameter.numel()\n",
    "        table.add_row([name, params])\n",
    "        total_params+=params\n",
    "    print(table)\n",
    "    print(f\"Total Trainable Params: {total_params}\")\n",
    "    return total_params\n",
    "\n",
    "count_parameters(net)"
   ]
  }
 ],
 "metadata": {
  "interpreter": {
   "hash": "7954ac75a7edc0492b8d300d7ba2b9ba9f87998f3cd3a347bbd42a45b202f05c"
  },
  "kernelspec": {
   "display_name": "Python 3.9.7",
   "language": "python",
   "name": "python3"
  },
  "language_info": {
   "codemirror_mode": {
    "name": "ipython",
    "version": 3
   },
   "file_extension": ".py",
   "mimetype": "text/x-python",
   "name": "python",
   "nbconvert_exporter": "python",
   "pygments_lexer": "ipython3",
   "version": "3.9.7"
  }
 },
 "nbformat": 4,
 "nbformat_minor": 5
}
