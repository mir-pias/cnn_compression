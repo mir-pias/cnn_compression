{
 "cells": [
  {
   "cell_type": "code",
   "execution_count": 1,
   "id": "e9751e7c",
   "metadata": {},
   "outputs": [],
   "source": [
    "import sys  \n",
    "sys.path.insert(0, 'D:/TU_KL/thesis/cnn_compression')\n",
    "\n",
    "import numpy as np\n",
    "import torch\n",
    "from torch import nn\n",
    "import torch.nn.functional as F\n",
    "import torchvision\n",
    "import torchvision.transforms as transforms\n",
    "from scipy.fftpack import dct\n",
    "import math\n",
    "from prototypes.DCT_layers import DCT_conv_layer\n",
    "## cifar10 download problem solve\n",
    "import ssl\n",
    "ssl._create_default_https_context = ssl._create_unverified_context"
   ]
  },
  {
   "cell_type": "code",
   "execution_count": 2,
   "id": "2e382adf",
   "metadata": {},
   "outputs": [
    {
     "name": "stdout",
     "output_type": "stream",
     "text": [
      "Files already downloaded and verified\n",
      "Files already downloaded and verified\n"
     ]
    }
   ],
   "source": [
    "transform = transforms.Compose(\n",
    "    [transforms.ToTensor(),\n",
    "     transforms.Normalize((0.5, 0.5, 0.5), (0.5, 0.5, 0.5))])\n",
    "\n",
    "batch_size = 32\n",
    "\n",
    "trainset = torchvision.datasets.CIFAR10(root='../data', train=True,\n",
    "                                        download=True, transform=transform)\n",
    "trainloader = torch.utils.data.DataLoader(trainset, batch_size=batch_size,\n",
    "                                          shuffle=True, num_workers=2)\n",
    "\n",
    "testset = torchvision.datasets.CIFAR10(root='../data', train=False,\n",
    "                                       download=True, transform=transform)\n",
    "testloader = torch.utils.data.DataLoader(testset, batch_size=batch_size,\n",
    "                                         shuffle=False, num_workers=2)\n",
    "\n",
    "classes = ('plane', 'car', 'bird', 'cat',\n",
    "           'deer', 'dog', 'frog', 'horse', 'ship', 'truck')"
   ]
  },
  {
   "cell_type": "code",
   "execution_count": 3,
   "id": "d30a810a",
   "metadata": {},
   "outputs": [],
   "source": [
    "device = \"cuda\" if torch.cuda.is_available() else \"cpu\""
   ]
  },
  {
   "cell_type": "code",
   "execution_count": 4,
   "id": "63bef2f8",
   "metadata": {},
   "outputs": [
    {
     "name": "stdout",
     "output_type": "stream",
     "text": [
      "AlexNet(\n",
      "  (features): Sequential(\n",
      "    (0): DCT_conv_layer(in_channels=3, out_channels=64, kernel_size=(3,), stride=(2,), padding=(1,))\n",
      "    (1): ReLU(inplace=True)\n",
      "    (2): MaxPool2d(kernel_size=2, stride=2, padding=0, dilation=1, ceil_mode=False)\n",
      "    (3): DCT_conv_layer(in_channels=64, out_channels=192, kernel_size=(3,), stride=(1,), padding=(1,))\n",
      "    (4): ReLU(inplace=True)\n",
      "    (5): MaxPool2d(kernel_size=2, stride=2, padding=0, dilation=1, ceil_mode=False)\n",
      "    (6): DCT_conv_layer(in_channels=192, out_channels=384, kernel_size=(3,), stride=(1,), padding=(1,))\n",
      "    (7): ReLU(inplace=True)\n",
      "    (8): DCT_conv_layer(in_channels=384, out_channels=256, kernel_size=(3,), stride=(1,), padding=(1,))\n",
      "    (9): ReLU(inplace=True)\n",
      "    (10): DCT_conv_layer(in_channels=256, out_channels=256, kernel_size=(3,), stride=(1,), padding=(1,))\n",
      "    (11): ReLU(inplace=True)\n",
      "    (12): MaxPool2d(kernel_size=2, stride=2, padding=0, dilation=1, ceil_mode=False)\n",
      "  )\n",
      "  (classifier): Sequential(\n",
      "    (0): Dropout(p=0.5, inplace=False)\n",
      "    (1): Linear(in_features=1024, out_features=4096, bias=True)\n",
      "    (2): ReLU(inplace=True)\n",
      "    (3): Dropout(p=0.5, inplace=False)\n",
      "    (4): Linear(in_features=4096, out_features=4096, bias=True)\n",
      "    (5): ReLU(inplace=True)\n",
      "    (6): Linear(in_features=4096, out_features=10, bias=True)\n",
      "  )\n",
      ")\n"
     ]
    }
   ],
   "source": [
    "class AlexNet(nn.Module):\n",
    "\n",
    "    def __init__(self, num_classes: int = 10) -> None:\n",
    "        super(AlexNet, self).__init__()\n",
    "        self.features = nn.Sequential(\n",
    "#             nn.Conv2d(3, 64, kernel_size=3, stride=2, padding=1),\n",
    "            DCT_conv_layer(3, 64, kernel_size=3, stride=2, padding=1),\n",
    "#             nn.BatchNorm2d(64),\n",
    "            nn.ReLU(inplace=True),\n",
    "            nn.MaxPool2d(kernel_size=2),   \n",
    "#             nn.Conv2d(64, 192, kernel_size=3, padding=1),\n",
    "            DCT_conv_layer(64, 192, kernel_size=3, padding=1),\n",
    "#             nn.BatchNorm2d(192),\n",
    "            nn.ReLU(inplace=True),\n",
    "            nn.MaxPool2d(kernel_size=2),    \n",
    "#             nn.Conv2d(192, 384, kernel_size=3, padding=1),\n",
    "            DCT_conv_layer(192, 384, kernel_size=3, padding=1),\n",
    "#             nn.BatchNorm2d(384),\n",
    "            nn.ReLU(inplace=True),\n",
    "#             nn.Conv2d(384, 256, kernel_size=3, padding=1),\n",
    "            DCT_conv_layer(384, 256, kernel_size=3, padding=1),\n",
    "#             nn.BatchNorm2d(256),\n",
    "            nn.ReLU(inplace=True),\n",
    "#             nn.Conv2d(256, 256, kernel_size=3, padding=1),\n",
    "            DCT_conv_layer(256, 256, kernel_size=3, padding=1),\n",
    "#             nn.BatchNorm2d(256),\n",
    "            nn.ReLU(inplace=True),\n",
    "            nn.MaxPool2d(kernel_size=2),\n",
    "\n",
    "        )\n",
    "        self.classifier = nn.Sequential(\n",
    "            nn.Dropout(),\n",
    "            nn.Linear(256 * 2 * 2, 4096),\n",
    "#             DCT_layer(4096),\n",
    "            nn.ReLU(inplace=True),\n",
    "            nn.Dropout(),\n",
    "#             DCT_layer(4096),\n",
    "            nn.Linear(4096, 4096),\n",
    "            nn.ReLU(inplace=True),\n",
    "            nn.Linear(4096, num_classes),\n",
    "        )\n",
    "\n",
    "    def forward(self, x: torch.Tensor) -> torch.Tensor:\n",
    "        x = self.features(x)\n",
    "        x = x.view(x.size(0), 256 * 2 * 2)\n",
    "        x = self.classifier(x)\n",
    "        return x\n",
    "    \n",
    "net = AlexNet(num_classes=10).to(device)\n",
    "print(net)\n"
   ]
  },
  {
   "cell_type": "code",
   "execution_count": 5,
   "id": "6db3d1af",
   "metadata": {},
   "outputs": [],
   "source": [
    "def train(dataloader,model,criterion,optimizer):\n",
    "#     torch.autograd.detect_anomaly() \n",
    "    train_loss = 0.0\n",
    "    for X, y in dataloader:\n",
    "        inputs, labels = X.to(device), y.to(device)\n",
    "        \n",
    "        outputs = model(inputs)\n",
    "        loss = criterion(outputs, labels)\n",
    "        \n",
    "        optimizer.zero_grad()\n",
    "        loss.backward()\n",
    "        optimizer.step()\n",
    "\n",
    "        # print statistics\n",
    "        train_loss += loss.item()*inputs.size(0)\n",
    "    train_loss = train_loss/len(dataloader)\n",
    "    \n",
    "    print(f'Training Loss: {train_loss:.8f}')"
   ]
  },
  {
   "cell_type": "code",
   "execution_count": 6,
   "id": "0c4d6014",
   "metadata": {},
   "outputs": [],
   "source": [
    "def test(dataloader, model, loss_fn):\n",
    "    size = len(dataloader.dataset)\n",
    "    num_batches = len(dataloader)\n",
    "    model.eval()\n",
    "    test_loss, correct = 0, 0\n",
    "    with torch.no_grad():\n",
    "        for X, y in dataloader:\n",
    "            X, y = X.to(device), y.to(device)\n",
    "            pred = model(X)\n",
    "            test_loss += loss_fn(pred, y).item()\n",
    "            correct += (pred.argmax(1) == y).type(torch.float).sum().item()\n",
    "    test_loss /= num_batches\n",
    "    correct /= size\n",
    "    print(f\"Test Error: \\n Accuracy: {(100*correct):>0.1f}%, Avg loss: {test_loss:>8f} \\n\")"
   ]
  },
  {
   "cell_type": "code",
   "execution_count": 7,
   "id": "c162a001",
   "metadata": {},
   "outputs": [
    {
     "name": "stdout",
     "output_type": "stream",
     "text": [
      "DCT_conv_AlexNet...........old dct_conv\n",
      "Epoch 1\n",
      "-------------------------------\n"
     ]
    },
    {
     "name": "stderr",
     "output_type": "stream",
     "text": [
      "d:\\TU_KL\\thesis\\cnn_comp\\lib\\site-packages\\torch\\nn\\functional.py:718: UserWarning: Named tensors and all their associated APIs are an experimental feature and subject to change. Please do not use them for anything important until they are released as stable. (Triggered internally at  ..\\c10/core/TensorImpl.h:1156.)\n",
      "  return torch.max_pool2d(input, kernel_size, stride, padding, dilation, ceil_mode)\n"
     ]
    },
    {
     "name": "stdout",
     "output_type": "stream",
     "text": [
      "Training Loss: 67.69166804\n",
      "Test Error: \n",
      " Accuracy: 30.4%, Avg loss: 1.858911 \n",
      "\n",
      "Epoch 2\n",
      "-------------------------------\n",
      "Training Loss: 54.89701793\n",
      "Test Error: \n",
      " Accuracy: 40.1%, Avg loss: 1.621998 \n",
      "\n",
      "Epoch 3\n",
      "-------------------------------\n",
      "Training Loss: 49.97536493\n",
      "Test Error: \n",
      " Accuracy: 45.4%, Avg loss: 1.483043 \n",
      "\n",
      "Epoch 4\n",
      "-------------------------------\n",
      "Training Loss: 47.10521720\n",
      "Test Error: \n",
      " Accuracy: 47.3%, Avg loss: 1.438311 \n",
      "\n",
      "Epoch 5\n",
      "-------------------------------\n",
      "Training Loss: 44.98209657\n",
      "Test Error: \n",
      " Accuracy: 48.9%, Avg loss: 1.396640 \n",
      "\n"
     ]
    }
   ],
   "source": [
    "import torch.optim as optim\n",
    "\n",
    "criterion = nn.CrossEntropyLoss()\n",
    "optimizer = optim.SGD(net.parameters(), lr=1e-3, momentum=0.9)\n",
    "\n",
    "print(\"DCT_conv_AlexNet...........old dct_conv\")\n",
    "epochs = 5\n",
    "for t in range(epochs):\n",
    "    print(f\"Epoch {t+1}\\n-------------------------------\")\n",
    "    train(trainloader, net, criterion, optimizer)\n",
    "    test(testloader, net, criterion)\n"
   ]
  },
  {
   "cell_type": "code",
   "execution_count": 8,
   "id": "c3868b6c",
   "metadata": {},
   "outputs": [
    {
     "name": "stdout",
     "output_type": "stream",
     "text": [
      "no of trainable params: 23272281\n"
     ]
    }
   ],
   "source": [
    "## no. of paramaters\n",
    "print('no of trainable params:', sum(p.numel() for p in net.parameters() if p.requires_grad))"
   ]
  },
  {
   "cell_type": "code",
   "execution_count": 9,
   "id": "80ee594e",
   "metadata": {},
   "outputs": [
    {
     "name": "stdout",
     "output_type": "stream",
     "text": [
      "+---------------------+------------+\n",
      "|       Modules       | Parameters |\n",
      "+---------------------+------------+\n",
      "|    features.0.fc    |     3      |\n",
      "|  features.0.weight  |    1728    |\n",
      "|   features.0.bias   |     64     |\n",
      "|    features.3.fc    |     3      |\n",
      "|  features.3.weight  |   110592   |\n",
      "|   features.3.bias   |    192     |\n",
      "|    features.6.fc    |     3      |\n",
      "|  features.6.weight  |   663552   |\n",
      "|   features.6.bias   |    384     |\n",
      "|    features.8.fc    |     3      |\n",
      "|  features.8.weight  |   884736   |\n",
      "|   features.8.bias   |    256     |\n",
      "|    features.10.fc   |     3      |\n",
      "|  features.10.weight |   589824   |\n",
      "|   features.10.bias  |    256     |\n",
      "| classifier.1.weight |  4194304   |\n",
      "|  classifier.1.bias  |    4096    |\n",
      "| classifier.4.weight |  16777216  |\n",
      "|  classifier.4.bias  |    4096    |\n",
      "| classifier.6.weight |   40960    |\n",
      "|  classifier.6.bias  |     10     |\n",
      "+---------------------+------------+\n",
      "Total Trainable Params: 23272281\n"
     ]
    },
    {
     "data": {
      "text/plain": [
       "23272281"
      ]
     },
     "execution_count": 9,
     "metadata": {},
     "output_type": "execute_result"
    }
   ],
   "source": [
    "from prettytable import PrettyTable\n",
    "\n",
    "def count_parameters(model):\n",
    "    table = PrettyTable([\"Modules\", \"Parameters\"])\n",
    "    total_params = 0\n",
    "    for name, parameter in model.named_parameters():\n",
    "        if not parameter.requires_grad: continue\n",
    "        params = parameter.numel()\n",
    "        table.add_row([name, params])\n",
    "        total_params+=params\n",
    "    print(table)\n",
    "    print(f\"Total Trainable Params: {total_params}\")\n",
    "    return total_params\n",
    "\n",
    "count_parameters(net)"
   ]
  }
 ],
 "metadata": {
  "interpreter": {
   "hash": "7954ac75a7edc0492b8d300d7ba2b9ba9f87998f3cd3a347bbd42a45b202f05c"
  },
  "kernelspec": {
   "display_name": "Python 3.9.7",
   "language": "python",
   "name": "python3"
  },
  "language_info": {
   "codemirror_mode": {
    "name": "ipython",
    "version": 3
   },
   "file_extension": ".py",
   "mimetype": "text/x-python",
   "name": "python",
   "nbconvert_exporter": "python",
   "pygments_lexer": "ipython3",
   "version": "3.9.7"
  }
 },
 "nbformat": 4,
 "nbformat_minor": 5
}
